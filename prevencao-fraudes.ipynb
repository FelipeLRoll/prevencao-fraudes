{
 "cells": [
  {
   "cell_type": "markdown",
   "metadata": {},
   "source": [
    "\n",
    "### Este conjunto de dados se trate de empréstimos financeiros\n",
    "#### **O objetivo deste notebook é prever se uma transação é uma possível fraude ou não**\n",
    "\n",
    "Entre as colunas deste dataset temos: contrato, idade, sexo , estado civil, UF do Cliente, data de Contratação, Valor do empréstimo, valor do empréstimo com juros, escolaridade, quantidade de parcelas pagas, quantidade de parcelas pagas em dia, quantidade de parcelas pagas em atraso, quantidade de renegociações, se o cliente possui patrimônio, valor do patrimônio, saldo devedor, total pago, valor da renda, percentual de juros, quantidade de parcelas com atraso, quantidade de dias de atraso, prazo restante e prazo de empréstimo.\n",
    "\n",
    "A coluna alvo é: **Possivel_Fraude**\n",
    "\n",
    "Este é um problema de **Classificação**"
   ]
  },
  {
   "cell_type": "markdown",
   "metadata": {},
   "source": [
    "Os passos a serem dados neste projeto são:\n",
    "\n",
    "* Analise exploratória\n",
    "* Tratamento dos dados\n",
    "* Análise estatística\n",
    "* Engenharia de atributos\n",
    "* Visualização com gráficos\n",
    "* OneHotEncoding\n",
    "* Balanceamento da variável **Possivel_Fraude**\n",
    "* Normalização e Padronização dos dados\n",
    "* Criação de modelos de ML\n",
    "* Treinamento dos modelos\n",
    "* Ajuste de hyperparâmetros\n",
    "* Análise e predição dos modelos\n",
    "* Colocar o modelo em produção"
   ]
  },
  {
   "cell_type": "code",
   "execution_count": 661,
   "metadata": {},
   "outputs": [],
   "source": [
    "#importando as bibliotecas\n",
    "import warnings\n",
    "import pandas as pd\n",
    "import numpy as np\n",
    "import plotly.express as px\n",
    "import time\n",
    "from imblearn.over_sampling import SMOTE\n",
    "from sklearn.preprocessing import OrdinalEncoder, OneHotEncoder, MinMaxScaler, StandardScaler, RobustScaler\n",
    "from sklearn.model_selection import train_test_split, GridSearchCV\n",
    "from sklearn.ensemble import RandomForestClassifier\n",
    "from sklearn.svm import SVC\n",
    "from sklearn.neighbors import KNeighborsClassifier\n",
    "\n",
    "\n",
    "pd.set_option(\"display.max_columns\", None)\n",
    "pd.set_option(\"display.max_rows\", None)\n",
    "pd.options.display.float_format = \"{:.2f}\".format\n",
    "warnings.filterwarnings(\"ignore\")\n"
   ]
  },
  {
   "cell_type": "code",
   "execution_count": 662,
   "metadata": {},
   "outputs": [],
   "source": [
    "#importando os dados\n",
    "df = pd.read_csv(r\"dataset/dados_coletados80k.csv\")"
   ]
  },
  {
   "cell_type": "markdown",
   "metadata": {},
   "source": [
    "## Análise Exploratória dos dados"
   ]
  },
  {
   "cell_type": "code",
   "execution_count": 663,
   "metadata": {},
   "outputs": [
    {
     "data": {
      "text/html": [
       "<div>\n",
       "<style scoped>\n",
       "    .dataframe tbody tr th:only-of-type {\n",
       "        vertical-align: middle;\n",
       "    }\n",
       "\n",
       "    .dataframe tbody tr th {\n",
       "        vertical-align: top;\n",
       "    }\n",
       "\n",
       "    .dataframe thead th {\n",
       "        text-align: right;\n",
       "    }\n",
       "</style>\n",
       "<table border=\"1\" class=\"dataframe\">\n",
       "  <thead>\n",
       "    <tr style=\"text-align: right;\">\n",
       "      <th></th>\n",
       "      <th>Contrato</th>\n",
       "      <th>Idade</th>\n",
       "      <th>Sexo</th>\n",
       "      <th>Valor_Renda</th>\n",
       "      <th>UF_Cliente</th>\n",
       "      <th>Perc_Juros</th>\n",
       "      <th>Prazo_Emprestimo</th>\n",
       "      <th>Data_Contratacao</th>\n",
       "      <th>Prazo_Restante</th>\n",
       "      <th>VL_Emprestimo</th>\n",
       "      <th>VL_Emprestimo_ComJuros</th>\n",
       "      <th>QT_Total_Parcelas_Pagas</th>\n",
       "      <th>QT_Total_Parcelas_Pagas_EmDia</th>\n",
       "      <th>QT_Total_Parcelas_Pagas_EmAtraso</th>\n",
       "      <th>Qt_Renegociacao</th>\n",
       "      <th>Estado_Civil</th>\n",
       "      <th>Escolaridade</th>\n",
       "      <th>Possui_Patrimonio</th>\n",
       "      <th>VL_Patrimonio</th>\n",
       "      <th>QT_Parcelas_Atraso</th>\n",
       "      <th>QT_Dias_Atraso</th>\n",
       "      <th>Saldo_Devedor</th>\n",
       "      <th>Total_Pago</th>\n",
       "      <th>Possivel_Fraude</th>\n",
       "    </tr>\n",
       "  </thead>\n",
       "  <tbody>\n",
       "    <tr>\n",
       "      <th>41617</th>\n",
       "      <td>321985145715</td>\n",
       "      <td>22</td>\n",
       "      <td>M</td>\n",
       "      <td>1200.00</td>\n",
       "      <td>MG</td>\n",
       "      <td>18.00</td>\n",
       "      <td>100</td>\n",
       "      <td>2021-07-07</td>\n",
       "      <td>84</td>\n",
       "      <td>25000.00</td>\n",
       "      <td>28750.00</td>\n",
       "      <td>26</td>\n",
       "      <td>20</td>\n",
       "      <td>5</td>\n",
       "      <td>1</td>\n",
       "      <td>SOLTEIRO(A)</td>\n",
       "      <td>NaN</td>\n",
       "      <td>N</td>\n",
       "      <td>0.00</td>\n",
       "      <td>2</td>\n",
       "      <td>41.00</td>\n",
       "      <td>22039.01</td>\n",
       "      <td>8058.27</td>\n",
       "      <td>Nao</td>\n",
       "    </tr>\n",
       "    <tr>\n",
       "      <th>29794</th>\n",
       "      <td>322000148715</td>\n",
       "      <td>33</td>\n",
       "      <td>F</td>\n",
       "      <td>2500.00</td>\n",
       "      <td>PI</td>\n",
       "      <td>22.00</td>\n",
       "      <td>200</td>\n",
       "      <td>2021-08-31</td>\n",
       "      <td>179</td>\n",
       "      <td>60000.00</td>\n",
       "      <td>69000.00</td>\n",
       "      <td>1</td>\n",
       "      <td>1</td>\n",
       "      <td>0</td>\n",
       "      <td>0</td>\n",
       "      <td>SOLTEIRO(A)</td>\n",
       "      <td>Nenhum</td>\n",
       "      <td>N</td>\n",
       "      <td>0.00</td>\n",
       "      <td>25</td>\n",
       "      <td>741.00</td>\n",
       "      <td>74124.68</td>\n",
       "      <td>381.40</td>\n",
       "      <td>Sim</td>\n",
       "    </tr>\n",
       "    <tr>\n",
       "      <th>35063</th>\n",
       "      <td>322020400715</td>\n",
       "      <td>26</td>\n",
       "      <td>F</td>\n",
       "      <td>5000.00</td>\n",
       "      <td>RS</td>\n",
       "      <td>16.00</td>\n",
       "      <td>120</td>\n",
       "      <td>2021-11-26</td>\n",
       "      <td>125</td>\n",
       "      <td>120000.00</td>\n",
       "      <td>138000.00</td>\n",
       "      <td>3</td>\n",
       "      <td>2</td>\n",
       "      <td>0</td>\n",
       "      <td>1</td>\n",
       "      <td>SOLTEIRO(A)</td>\n",
       "      <td>Nenhum</td>\n",
       "      <td>N</td>\n",
       "      <td>0.00</td>\n",
       "      <td>20</td>\n",
       "      <td>589.00</td>\n",
       "      <td>138929.50</td>\n",
       "      <td>2009.88</td>\n",
       "      <td>Sim</td>\n",
       "    </tr>\n",
       "    <tr>\n",
       "      <th>67131</th>\n",
       "      <td>321960510715</td>\n",
       "      <td>25</td>\n",
       "      <td>F</td>\n",
       "      <td>1250.00</td>\n",
       "      <td>RJ</td>\n",
       "      <td>21.00</td>\n",
       "      <td>55</td>\n",
       "      <td>2021-03-08</td>\n",
       "      <td>25</td>\n",
       "      <td>10000.00</td>\n",
       "      <td>11500.00</td>\n",
       "      <td>2</td>\n",
       "      <td>1</td>\n",
       "      <td>0</td>\n",
       "      <td>0</td>\n",
       "      <td>SOLTEIRO(A)</td>\n",
       "      <td>NaN</td>\n",
       "      <td>N</td>\n",
       "      <td>0.00</td>\n",
       "      <td>30</td>\n",
       "      <td>894.00</td>\n",
       "      <td>11923.83</td>\n",
       "      <td>447.28</td>\n",
       "      <td>Sim</td>\n",
       "    </tr>\n",
       "  </tbody>\n",
       "</table>\n",
       "</div>"
      ],
      "text/plain": [
       "           Contrato  Idade Sexo  Valor_Renda UF_Cliente  Perc_Juros  \\\n",
       "41617  321985145715     22    M      1200.00         MG       18.00   \n",
       "29794  322000148715     33    F      2500.00         PI       22.00   \n",
       "35063  322020400715     26    F      5000.00         RS       16.00   \n",
       "67131  321960510715     25    F      1250.00         RJ       21.00   \n",
       "\n",
       "       Prazo_Emprestimo Data_Contratacao  Prazo_Restante  VL_Emprestimo  \\\n",
       "41617               100       2021-07-07              84       25000.00   \n",
       "29794               200       2021-08-31             179       60000.00   \n",
       "35063               120       2021-11-26             125      120000.00   \n",
       "67131                55       2021-03-08              25       10000.00   \n",
       "\n",
       "       VL_Emprestimo_ComJuros  QT_Total_Parcelas_Pagas  \\\n",
       "41617                28750.00                       26   \n",
       "29794                69000.00                        1   \n",
       "35063               138000.00                        3   \n",
       "67131                11500.00                        2   \n",
       "\n",
       "       QT_Total_Parcelas_Pagas_EmDia  QT_Total_Parcelas_Pagas_EmAtraso  \\\n",
       "41617                             20                                 5   \n",
       "29794                              1                                 0   \n",
       "35063                              2                                 0   \n",
       "67131                              1                                 0   \n",
       "\n",
       "       Qt_Renegociacao Estado_Civil Escolaridade Possui_Patrimonio  \\\n",
       "41617                1  SOLTEIRO(A)          NaN                 N   \n",
       "29794                0  SOLTEIRO(A)       Nenhum                 N   \n",
       "35063                1  SOLTEIRO(A)       Nenhum                 N   \n",
       "67131                0  SOLTEIRO(A)          NaN                 N   \n",
       "\n",
       "       VL_Patrimonio  QT_Parcelas_Atraso  QT_Dias_Atraso  Saldo_Devedor  \\\n",
       "41617           0.00                   2           41.00       22039.01   \n",
       "29794           0.00                  25          741.00       74124.68   \n",
       "35063           0.00                  20          589.00      138929.50   \n",
       "67131           0.00                  30          894.00       11923.83   \n",
       "\n",
       "       Total_Pago Possivel_Fraude  \n",
       "41617     8058.27             Nao  \n",
       "29794      381.40             Sim  \n",
       "35063     2009.88             Sim  \n",
       "67131      447.28             Sim  "
      ]
     },
     "execution_count": 663,
     "metadata": {},
     "output_type": "execute_result"
    }
   ],
   "source": [
    "#visualizando o dataset\n",
    "df.sample(4)"
   ]
  },
  {
   "cell_type": "code",
   "execution_count": 664,
   "metadata": {},
   "outputs": [
    {
     "data": {
      "text/plain": [
       "(80143, 24)"
      ]
     },
     "execution_count": 664,
     "metadata": {},
     "output_type": "execute_result"
    }
   ],
   "source": [
    "df.shape"
   ]
  },
  {
   "cell_type": "markdown",
   "metadata": {},
   "source": [
    "Dataset contém 80143 linhas e 24 colunas"
   ]
  },
  {
   "cell_type": "code",
   "execution_count": 665,
   "metadata": {},
   "outputs": [
    {
     "data": {
      "text/html": [
       "<div>\n",
       "<style scoped>\n",
       "    .dataframe tbody tr th:only-of-type {\n",
       "        vertical-align: middle;\n",
       "    }\n",
       "\n",
       "    .dataframe tbody tr th {\n",
       "        vertical-align: top;\n",
       "    }\n",
       "\n",
       "    .dataframe thead th {\n",
       "        text-align: right;\n",
       "    }\n",
       "</style>\n",
       "<table border=\"1\" class=\"dataframe\">\n",
       "  <thead>\n",
       "    <tr style=\"text-align: right;\">\n",
       "      <th></th>\n",
       "      <th>Contrato</th>\n",
       "      <th>Idade</th>\n",
       "      <th>Valor_Renda</th>\n",
       "      <th>Perc_Juros</th>\n",
       "      <th>Prazo_Emprestimo</th>\n",
       "      <th>Prazo_Restante</th>\n",
       "      <th>VL_Emprestimo</th>\n",
       "      <th>VL_Emprestimo_ComJuros</th>\n",
       "      <th>QT_Total_Parcelas_Pagas</th>\n",
       "      <th>QT_Total_Parcelas_Pagas_EmDia</th>\n",
       "      <th>QT_Total_Parcelas_Pagas_EmAtraso</th>\n",
       "      <th>Qt_Renegociacao</th>\n",
       "      <th>VL_Patrimonio</th>\n",
       "      <th>QT_Parcelas_Atraso</th>\n",
       "      <th>QT_Dias_Atraso</th>\n",
       "      <th>Saldo_Devedor</th>\n",
       "      <th>Total_Pago</th>\n",
       "    </tr>\n",
       "  </thead>\n",
       "  <tbody>\n",
       "    <tr>\n",
       "      <th>count</th>\n",
       "      <td>80143.00</td>\n",
       "      <td>80143.00</td>\n",
       "      <td>80143.00</td>\n",
       "      <td>80143.00</td>\n",
       "      <td>80143.00</td>\n",
       "      <td>80143.00</td>\n",
       "      <td>80143.00</td>\n",
       "      <td>80143.00</td>\n",
       "      <td>80143.00</td>\n",
       "      <td>80143.00</td>\n",
       "      <td>80143.00</td>\n",
       "      <td>80143.00</td>\n",
       "      <td>80143.00</td>\n",
       "      <td>80143.00</td>\n",
       "      <td>54348.00</td>\n",
       "      <td>80143.00</td>\n",
       "      <td>80143.00</td>\n",
       "    </tr>\n",
       "    <tr>\n",
       "      <th>mean</th>\n",
       "      <td>322023695416.17</td>\n",
       "      <td>38.82</td>\n",
       "      <td>29308.62</td>\n",
       "      <td>19.49</td>\n",
       "      <td>102.33</td>\n",
       "      <td>93.28</td>\n",
       "      <td>72847.78</td>\n",
       "      <td>83774.94</td>\n",
       "      <td>10.71</td>\n",
       "      <td>5.24</td>\n",
       "      <td>2.34</td>\n",
       "      <td>1.30</td>\n",
       "      <td>1.45</td>\n",
       "      <td>10.65</td>\n",
       "      <td>475.26</td>\n",
       "      <td>78622.32</td>\n",
       "      <td>9687.98</td>\n",
       "    </tr>\n",
       "    <tr>\n",
       "      <th>std</th>\n",
       "      <td>44697010.94</td>\n",
       "      <td>12.53</td>\n",
       "      <td>2748166.27</td>\n",
       "      <td>3.56</td>\n",
       "      <td>62.32</td>\n",
       "      <td>70.64</td>\n",
       "      <td>87407.93</td>\n",
       "      <td>100519.12</td>\n",
       "      <td>9.31</td>\n",
       "      <td>6.21</td>\n",
       "      <td>3.97</td>\n",
       "      <td>1.27</td>\n",
       "      <td>355.10</td>\n",
       "      <td>10.43</td>\n",
       "      <td>269.79</td>\n",
       "      <td>102318.95</td>\n",
       "      <td>19090.62</td>\n",
       "    </tr>\n",
       "    <tr>\n",
       "      <th>min</th>\n",
       "      <td>321944855715.00</td>\n",
       "      <td>4.00</td>\n",
       "      <td>0.00</td>\n",
       "      <td>4.49</td>\n",
       "      <td>14.00</td>\n",
       "      <td>-18.00</td>\n",
       "      <td>3000.00</td>\n",
       "      <td>3450.00</td>\n",
       "      <td>0.00</td>\n",
       "      <td>0.00</td>\n",
       "      <td>0.00</td>\n",
       "      <td>0.00</td>\n",
       "      <td>0.00</td>\n",
       "      <td>0.00</td>\n",
       "      <td>11.00</td>\n",
       "      <td>0.00</td>\n",
       "      <td>0.00</td>\n",
       "    </tr>\n",
       "    <tr>\n",
       "      <th>25%</th>\n",
       "      <td>321984967215.00</td>\n",
       "      <td>29.00</td>\n",
       "      <td>2050.00</td>\n",
       "      <td>18.00</td>\n",
       "      <td>55.00</td>\n",
       "      <td>36.00</td>\n",
       "      <td>15000.00</td>\n",
       "      <td>17250.00</td>\n",
       "      <td>2.00</td>\n",
       "      <td>1.00</td>\n",
       "      <td>0.00</td>\n",
       "      <td>0.00</td>\n",
       "      <td>0.00</td>\n",
       "      <td>0.00</td>\n",
       "      <td>284.00</td>\n",
       "      <td>12122.76</td>\n",
       "      <td>1052.16</td>\n",
       "    </tr>\n",
       "    <tr>\n",
       "      <th>50%</th>\n",
       "      <td>322024156715.00</td>\n",
       "      <td>37.00</td>\n",
       "      <td>3000.00</td>\n",
       "      <td>20.00</td>\n",
       "      <td>80.00</td>\n",
       "      <td>78.00</td>\n",
       "      <td>40000.00</td>\n",
       "      <td>46000.00</td>\n",
       "      <td>8.00</td>\n",
       "      <td>2.00</td>\n",
       "      <td>1.00</td>\n",
       "      <td>1.00</td>\n",
       "      <td>0.00</td>\n",
       "      <td>9.00</td>\n",
       "      <td>468.00</td>\n",
       "      <td>35489.36</td>\n",
       "      <td>3951.39</td>\n",
       "    </tr>\n",
       "    <tr>\n",
       "      <th>75%</th>\n",
       "      <td>322062662215.00</td>\n",
       "      <td>46.00</td>\n",
       "      <td>5000.00</td>\n",
       "      <td>21.00</td>\n",
       "      <td>170.00</td>\n",
       "      <td>156.00</td>\n",
       "      <td>100000.00</td>\n",
       "      <td>115000.00</td>\n",
       "      <td>18.00</td>\n",
       "      <td>7.00</td>\n",
       "      <td>3.00</td>\n",
       "      <td>2.00</td>\n",
       "      <td>0.00</td>\n",
       "      <td>20.00</td>\n",
       "      <td>708.00</td>\n",
       "      <td>117783.25</td>\n",
       "      <td>10886.24</td>\n",
       "    </tr>\n",
       "    <tr>\n",
       "      <th>max</th>\n",
       "      <td>322099706715.00</td>\n",
       "      <td>103.00</td>\n",
       "      <td>765000000.00</td>\n",
       "      <td>28.00</td>\n",
       "      <td>240.00</td>\n",
       "      <td>227.00</td>\n",
       "      <td>500000.00</td>\n",
       "      <td>575000.00</td>\n",
       "      <td>66.00</td>\n",
       "      <td>66.00</td>\n",
       "      <td>31.00</td>\n",
       "      <td>38.00</td>\n",
       "      <td>100000.00</td>\n",
       "      <td>34.00</td>\n",
       "      <td>1014.00</td>\n",
       "      <td>626261.27</td>\n",
       "      <td>465821.39</td>\n",
       "    </tr>\n",
       "  </tbody>\n",
       "</table>\n",
       "</div>"
      ],
      "text/plain": [
       "             Contrato    Idade  Valor_Renda  Perc_Juros  Prazo_Emprestimo  \\\n",
       "count        80143.00 80143.00     80143.00    80143.00          80143.00   \n",
       "mean  322023695416.17    38.82     29308.62       19.49            102.33   \n",
       "std       44697010.94    12.53   2748166.27        3.56             62.32   \n",
       "min   321944855715.00     4.00         0.00        4.49             14.00   \n",
       "25%   321984967215.00    29.00      2050.00       18.00             55.00   \n",
       "50%   322024156715.00    37.00      3000.00       20.00             80.00   \n",
       "75%   322062662215.00    46.00      5000.00       21.00            170.00   \n",
       "max   322099706715.00   103.00 765000000.00       28.00            240.00   \n",
       "\n",
       "       Prazo_Restante  VL_Emprestimo  VL_Emprestimo_ComJuros  \\\n",
       "count        80143.00       80143.00                80143.00   \n",
       "mean            93.28       72847.78                83774.94   \n",
       "std             70.64       87407.93               100519.12   \n",
       "min            -18.00        3000.00                 3450.00   \n",
       "25%             36.00       15000.00                17250.00   \n",
       "50%             78.00       40000.00                46000.00   \n",
       "75%            156.00      100000.00               115000.00   \n",
       "max            227.00      500000.00               575000.00   \n",
       "\n",
       "       QT_Total_Parcelas_Pagas  QT_Total_Parcelas_Pagas_EmDia  \\\n",
       "count                 80143.00                       80143.00   \n",
       "mean                     10.71                           5.24   \n",
       "std                       9.31                           6.21   \n",
       "min                       0.00                           0.00   \n",
       "25%                       2.00                           1.00   \n",
       "50%                       8.00                           2.00   \n",
       "75%                      18.00                           7.00   \n",
       "max                      66.00                          66.00   \n",
       "\n",
       "       QT_Total_Parcelas_Pagas_EmAtraso  Qt_Renegociacao  VL_Patrimonio  \\\n",
       "count                          80143.00         80143.00       80143.00   \n",
       "mean                               2.34             1.30           1.45   \n",
       "std                                3.97             1.27         355.10   \n",
       "min                                0.00             0.00           0.00   \n",
       "25%                                0.00             0.00           0.00   \n",
       "50%                                1.00             1.00           0.00   \n",
       "75%                                3.00             2.00           0.00   \n",
       "max                               31.00            38.00      100000.00   \n",
       "\n",
       "       QT_Parcelas_Atraso  QT_Dias_Atraso  Saldo_Devedor  Total_Pago  \n",
       "count            80143.00        54348.00       80143.00    80143.00  \n",
       "mean                10.65          475.26       78622.32     9687.98  \n",
       "std                 10.43          269.79      102318.95    19090.62  \n",
       "min                  0.00           11.00           0.00        0.00  \n",
       "25%                  0.00          284.00       12122.76     1052.16  \n",
       "50%                  9.00          468.00       35489.36     3951.39  \n",
       "75%                 20.00          708.00      117783.25    10886.24  \n",
       "max                 34.00         1014.00      626261.27   465821.39  "
      ]
     },
     "execution_count": 665,
     "metadata": {},
     "output_type": "execute_result"
    }
   ],
   "source": [
    "#visualizar algumas metricas do df\n",
    "df.describe()"
   ]
  },
  {
   "cell_type": "markdown",
   "metadata": {},
   "source": [
    "Podemos tirar alguns insights como:\n",
    "\n",
    "* Desvio padrão das variáveis alto, precisaremos usar ou a normalização ou a padronização dos dados antes de usar um modelo de machine learning\n",
    "\n",
    "* Média de idade de 38/39 anos\n",
    "* Idade mínima de 4 anos (possível erro) e Idade máxima de 103 anos\n",
    "\n",
    "* Renda média de 29.308 , mínima de 0 e máxima 765000000.00 (possível outlier)\n",
    "\n",
    "* Média de 10 parcelas pagas, 5 pagas em dia e 2 pagas com atraso\n",
    "* Média de 10 parcelas com atraso"
   ]
  },
  {
   "cell_type": "code",
   "execution_count": 666,
   "metadata": {},
   "outputs": [
    {
     "data": {
      "text/html": [
       "<div>\n",
       "<style scoped>\n",
       "    .dataframe tbody tr th:only-of-type {\n",
       "        vertical-align: middle;\n",
       "    }\n",
       "\n",
       "    .dataframe tbody tr th {\n",
       "        vertical-align: top;\n",
       "    }\n",
       "\n",
       "    .dataframe thead th {\n",
       "        text-align: right;\n",
       "    }\n",
       "</style>\n",
       "<table border=\"1\" class=\"dataframe\">\n",
       "  <thead>\n",
       "    <tr style=\"text-align: right;\">\n",
       "      <th></th>\n",
       "      <th>Sexo</th>\n",
       "      <th>UF_Cliente</th>\n",
       "      <th>Data_Contratacao</th>\n",
       "      <th>Estado_Civil</th>\n",
       "      <th>Escolaridade</th>\n",
       "      <th>Possui_Patrimonio</th>\n",
       "      <th>Possivel_Fraude</th>\n",
       "    </tr>\n",
       "  </thead>\n",
       "  <tbody>\n",
       "    <tr>\n",
       "      <th>count</th>\n",
       "      <td>80143</td>\n",
       "      <td>80143</td>\n",
       "      <td>80143</td>\n",
       "      <td>80143</td>\n",
       "      <td>22845</td>\n",
       "      <td>80143</td>\n",
       "      <td>80143</td>\n",
       "    </tr>\n",
       "    <tr>\n",
       "      <th>unique</th>\n",
       "      <td>2</td>\n",
       "      <td>27</td>\n",
       "      <td>751</td>\n",
       "      <td>8</td>\n",
       "      <td>5</td>\n",
       "      <td>2</td>\n",
       "      <td>2</td>\n",
       "    </tr>\n",
       "    <tr>\n",
       "      <th>top</th>\n",
       "      <td>M</td>\n",
       "      <td>SP</td>\n",
       "      <td>2021-11-30</td>\n",
       "      <td>SOLTEIRO(A)</td>\n",
       "      <td>Nenhum</td>\n",
       "      <td>N</td>\n",
       "      <td>Sim</td>\n",
       "    </tr>\n",
       "    <tr>\n",
       "      <th>freq</th>\n",
       "      <td>48500</td>\n",
       "      <td>21393</td>\n",
       "      <td>374</td>\n",
       "      <td>45205</td>\n",
       "      <td>21168</td>\n",
       "      <td>79785</td>\n",
       "      <td>44511</td>\n",
       "    </tr>\n",
       "  </tbody>\n",
       "</table>\n",
       "</div>"
      ],
      "text/plain": [
       "         Sexo UF_Cliente Data_Contratacao Estado_Civil Escolaridade  \\\n",
       "count   80143      80143            80143        80143        22845   \n",
       "unique      2         27              751            8            5   \n",
       "top         M         SP       2021-11-30  SOLTEIRO(A)       Nenhum   \n",
       "freq    48500      21393              374        45205        21168   \n",
       "\n",
       "       Possui_Patrimonio Possivel_Fraude  \n",
       "count              80143           80143  \n",
       "unique                 2               2  \n",
       "top                    N             Sim  \n",
       "freq               79785           44511  "
      ]
     },
     "execution_count": 666,
     "metadata": {},
     "output_type": "execute_result"
    }
   ],
   "source": [
    "#visualizar metricas das colunas nao numericas\n",
    "df.describe(exclude=\"number\")"
   ]
  },
  {
   "cell_type": "code",
   "execution_count": 667,
   "metadata": {},
   "outputs": [
    {
     "data": {
      "text/html": [
       "<div>\n",
       "<style scoped>\n",
       "    .dataframe tbody tr th:only-of-type {\n",
       "        vertical-align: middle;\n",
       "    }\n",
       "\n",
       "    .dataframe tbody tr th {\n",
       "        vertical-align: top;\n",
       "    }\n",
       "\n",
       "    .dataframe thead th {\n",
       "        text-align: right;\n",
       "    }\n",
       "</style>\n",
       "<table border=\"1\" class=\"dataframe\">\n",
       "  <thead>\n",
       "    <tr style=\"text-align: right;\">\n",
       "      <th></th>\n",
       "      <th></th>\n",
       "      <th>Valor_Renda</th>\n",
       "    </tr>\n",
       "    <tr>\n",
       "      <th>Escolaridade</th>\n",
       "      <th>Sexo</th>\n",
       "      <th></th>\n",
       "    </tr>\n",
       "  </thead>\n",
       "  <tbody>\n",
       "    <tr>\n",
       "      <th rowspan=\"2\" valign=\"top\">Ensino Fundamental</th>\n",
       "      <th>F</th>\n",
       "      <td>2619.96</td>\n",
       "    </tr>\n",
       "    <tr>\n",
       "      <th>M</th>\n",
       "      <td>4533.91</td>\n",
       "    </tr>\n",
       "    <tr>\n",
       "      <th rowspan=\"2\" valign=\"top\">Ensino Médio</th>\n",
       "      <th>F</th>\n",
       "      <td>4885.93</td>\n",
       "    </tr>\n",
       "    <tr>\n",
       "      <th>M</th>\n",
       "      <td>5810.71</td>\n",
       "    </tr>\n",
       "    <tr>\n",
       "      <th rowspan=\"2\" valign=\"top\">Ensino Superior</th>\n",
       "      <th>F</th>\n",
       "      <td>9990.37</td>\n",
       "    </tr>\n",
       "    <tr>\n",
       "      <th>M</th>\n",
       "      <td>40138.40</td>\n",
       "    </tr>\n",
       "    <tr>\n",
       "      <th rowspan=\"2\" valign=\"top\">Nenhum</th>\n",
       "      <th>F</th>\n",
       "      <td>8238.12</td>\n",
       "    </tr>\n",
       "    <tr>\n",
       "      <th>M</th>\n",
       "      <td>101368.94</td>\n",
       "    </tr>\n",
       "    <tr>\n",
       "      <th rowspan=\"2\" valign=\"top\">Pós Graduação / Mestrado / Doutorado</th>\n",
       "      <th>F</th>\n",
       "      <td>10115.88</td>\n",
       "    </tr>\n",
       "    <tr>\n",
       "      <th>M</th>\n",
       "      <td>10673.08</td>\n",
       "    </tr>\n",
       "  </tbody>\n",
       "</table>\n",
       "</div>"
      ],
      "text/plain": [
       "                                           Valor_Renda\n",
       "Escolaridade                         Sexo             \n",
       "Ensino Fundamental                   F         2619.96\n",
       "                                     M         4533.91\n",
       "Ensino Médio                         F         4885.93\n",
       "                                     M         5810.71\n",
       "Ensino Superior                      F         9990.37\n",
       "                                     M        40138.40\n",
       "Nenhum                               F         8238.12\n",
       "                                     M       101368.94\n",
       "Pós Graduação / Mestrado / Doutorado F        10115.88\n",
       "                                     M        10673.08"
      ]
     },
     "execution_count": 667,
     "metadata": {},
     "output_type": "execute_result"
    }
   ],
   "source": [
    "#erificando a media do Valor_Renda para cada nivel de escolaridade e sexo\n",
    "df.groupby([\"Escolaridade\", \"Sexo\"])[\"Valor_Renda\"].mean().to_frame()"
   ]
  },
  {
   "cell_type": "code",
   "execution_count": 668,
   "metadata": {},
   "outputs": [
    {
     "data": {
      "text/plain": [
       "UF_Cliente\n",
       "SP   0.27\n",
       "MG   0.17\n",
       "BA   0.08\n",
       "PR   0.07\n",
       "GO   0.05\n",
       "MA   0.04\n",
       "RS   0.04\n",
       "PA   0.04\n",
       "SC   0.03\n",
       "PE   0.03\n",
       "RJ   0.03\n",
       "MS   0.03\n",
       "CE   0.03\n",
       "PB   0.02\n",
       "MT   0.01\n",
       "AL   0.01\n",
       "RN   0.01\n",
       "PI   0.01\n",
       "DF   0.01\n",
       "SE   0.01\n",
       "ES   0.00\n",
       "TO   0.00\n",
       "AM   0.00\n",
       "RO   0.00\n",
       "AC   0.00\n",
       "AP   0.00\n",
       "RR   0.00\n",
       "Name: proportion, dtype: float64"
      ]
     },
     "execution_count": 668,
     "metadata": {},
     "output_type": "execute_result"
    }
   ],
   "source": [
    "#verificando a distribuicao da coluna UF_Cliente\n",
    "df[\"UF_Cliente\"].value_counts(normalize=True)"
   ]
  },
  {
   "cell_type": "code",
   "execution_count": 669,
   "metadata": {},
   "outputs": [
    {
     "data": {
      "text/plain": [
       "Contrato                            80143\n",
       "Idade                                  86\n",
       "Sexo                                    2\n",
       "Valor_Renda                          4747\n",
       "UF_Cliente                             27\n",
       "Perc_Juros                             53\n",
       "Prazo_Emprestimo                       60\n",
       "Data_Contratacao                      751\n",
       "Prazo_Restante                         93\n",
       "VL_Emprestimo                          73\n",
       "VL_Emprestimo_ComJuros                 73\n",
       "QT_Total_Parcelas_Pagas                50\n",
       "QT_Total_Parcelas_Pagas_EmDia          48\n",
       "QT_Total_Parcelas_Pagas_EmAtraso       32\n",
       "Qt_Renegociacao                        15\n",
       "Estado_Civil                            8\n",
       "Escolaridade                            5\n",
       "Possui_Patrimonio                       2\n",
       "VL_Patrimonio                           4\n",
       "QT_Parcelas_Atraso                     35\n",
       "QT_Dias_Atraso                         38\n",
       "Saldo_Devedor                       64166\n",
       "Total_Pago                          54074\n",
       "Possivel_Fraude                         2\n",
       "dtype: int64"
      ]
     },
     "execution_count": 669,
     "metadata": {},
     "output_type": "execute_result"
    }
   ],
   "source": [
    "#verificando o numero de valores unicos de cada coluna\n",
    "df.nunique()"
   ]
  },
  {
   "cell_type": "code",
   "execution_count": 670,
   "metadata": {},
   "outputs": [
    {
     "data": {
      "text/plain": [
       "Escolaridade\n",
       "Ensino Fundamental                        126\n",
       "Ensino Médio                              902\n",
       "Ensino Superior                           600\n",
       "Nenhum                                  21168\n",
       "Pós Graduação / Mestrado / Doutorado       49\n",
       "dtype: int64"
      ]
     },
     "execution_count": 670,
     "metadata": {},
     "output_type": "execute_result"
    }
   ],
   "source": [
    "df.groupby([\"Escolaridade\"]).size()"
   ]
  },
  {
   "cell_type": "code",
   "execution_count": 671,
   "metadata": {},
   "outputs": [
    {
     "data": {
      "text/plain": [
       "Estado_Civil\n",
       "CASADO (A)                23576\n",
       "DIVORCIADO                 3783\n",
       "NENHUM                        4\n",
       "OUTRO                      5912\n",
       "SEPARADO JUDICIALMENTE        4\n",
       "SOLTEIRO(A)               45205\n",
       "UNIÃO ESTAVEL               501\n",
       "VIÚVO(A)                   1158\n",
       "dtype: int64"
      ]
     },
     "execution_count": 671,
     "metadata": {},
     "output_type": "execute_result"
    }
   ],
   "source": [
    "df.groupby([\"Estado_Civil\"]).size()"
   ]
  },
  {
   "cell_type": "code",
   "execution_count": 672,
   "metadata": {},
   "outputs": [
    {
     "data": {
      "text/plain": [
       "Possui_Patrimonio\n",
       "N    79785\n",
       "S      358\n",
       "dtype: int64"
      ]
     },
     "execution_count": 672,
     "metadata": {},
     "output_type": "execute_result"
    }
   ],
   "source": [
    "df.groupby([\"Possui_Patrimonio\"]).size()"
   ]
  },
  {
   "cell_type": "code",
   "execution_count": 673,
   "metadata": {},
   "outputs": [
    {
     "data": {
      "text/plain": [
       "VL_Patrimonio\n",
       "0.00         80135\n",
       "1000.00          6\n",
       "10000.00         1\n",
       "100000.00        1\n",
       "dtype: int64"
      ]
     },
     "execution_count": 673,
     "metadata": {},
     "output_type": "execute_result"
    }
   ],
   "source": [
    "df.groupby([\"VL_Patrimonio\"]).size()"
   ]
  },
  {
   "cell_type": "code",
   "execution_count": 674,
   "metadata": {},
   "outputs": [
    {
     "data": {
      "text/plain": [
       "QT_Dias_Atraso\n",
       "11.00      3626\n",
       "741.00     2180\n",
       "376.00     2177\n",
       "649.00     2036\n",
       "406.00     2024\n",
       "344.00     1986\n",
       "435.00     1980\n",
       "468.00     1977\n",
       "251.00     1957\n",
       "284.00     1956\n",
       "771.00     1952\n",
       "708.00     1936\n",
       "617.00     1911\n",
       "498.00     1873\n",
       "559.00     1848\n",
       "589.00     1840\n",
       "680.00     1836\n",
       "315.00     1833\n",
       "529.00     1750\n",
       "802.00     1731\n",
       "41.00      1572\n",
       "833.00     1471\n",
       "225.00     1330\n",
       "862.00     1174\n",
       "71.00      1115\n",
       "894.00     1061\n",
       "103.00     1028\n",
       "194.00     1027\n",
       "924.00      988\n",
       "953.00      962\n",
       "162.00      914\n",
       "133.00      860\n",
       "981.00      427\n",
       "437.00        3\n",
       "736.00        3\n",
       "1014.00       2\n",
       "764.00        1\n",
       "705.00        1\n",
       "dtype: int64"
      ]
     },
     "execution_count": 674,
     "metadata": {},
     "output_type": "execute_result"
    }
   ],
   "source": [
    "df.groupby([\"QT_Dias_Atraso\"]).size().sort_values(ascending=False)"
   ]
  },
  {
   "cell_type": "code",
   "execution_count": 675,
   "metadata": {},
   "outputs": [
    {
     "data": {
      "text/plain": [
       "QT_Parcelas_Atraso\n",
       "0     25795\n",
       "1      4100\n",
       "13     2146\n",
       "25     2031\n",
       "2      1992\n",
       "19     1979\n",
       "14     1979\n",
       "22     1975\n",
       "24     1967\n",
       "16     1964\n",
       "15     1951\n",
       "12     1943\n",
       "17     1860\n",
       "26     1839\n",
       "21     1826\n",
       "10     1821\n",
       "9      1793\n",
       "18     1780\n",
       "23     1778\n",
       "20     1763\n",
       "11     1740\n",
       "27     1643\n",
       "3      1600\n",
       "28     1386\n",
       "8      1297\n",
       "29     1151\n",
       "4      1139\n",
       "7      1020\n",
       "5       988\n",
       "30      943\n",
       "31      908\n",
       "6       886\n",
       "32      812\n",
       "33      346\n",
       "34        2\n",
       "dtype: int64"
      ]
     },
     "execution_count": 675,
     "metadata": {},
     "output_type": "execute_result"
    }
   ],
   "source": [
    "df.groupby([\"QT_Parcelas_Atraso\"]).size().sort_values(ascending=False)"
   ]
  },
  {
   "cell_type": "markdown",
   "metadata": {},
   "source": [
    "Alguns insights:\n",
    "\n",
    "* 27 tipos de dados diferentes na coluna *UF_Cliente*, este dataset contém clientes de todos os 26 estados no Brasil + DF\n",
    "* A maior distribuição de dados da coluna *UF_Cliente*, está em São Paulo seguido por Minas Gerais\n",
    "* 8 tipos de estado civil no dataset\n",
    "* Homens tendem a ganhar mais do que as mulheres, e normalmente quanto maior o grau de escolaridade, maior o salário\n",
    "* A maioria das pessoas no dataset não possui escolaridade e apenas 49 tem Pós Graduação / Mestrado / Doutorado\n",
    "* A maioria das pessoas no dataset é SOLTEIRO(A)\n",
    "* A maioria das pessoas no dataset não possui Patrimonio\n",
    "* A coluna VL_Patrimonio indica que a coleta destes dados provavelmente está equivocada, devido ao fato de que quase todos os valores de patrimonio são 0 e apenas algunas poucos de 1.000, 10.000 e 100.00 (iremos retirar esta coluna)\n",
    "* O número de dias atraso com o maior número de pessoas é de 11 dias\n",
    "* A maioria das pessoas não tem parcelas em atraso"
   ]
  },
  {
   "cell_type": "code",
   "execution_count": 676,
   "metadata": {},
   "outputs": [
    {
     "name": "stdout",
     "output_type": "stream",
     "text": [
      "<class 'pandas.core.frame.DataFrame'>\n",
      "RangeIndex: 80143 entries, 0 to 80142\n",
      "Data columns (total 24 columns):\n",
      " #   Column                            Non-Null Count  Dtype  \n",
      "---  ------                            --------------  -----  \n",
      " 0   Contrato                          80143 non-null  int64  \n",
      " 1   Idade                             80143 non-null  int64  \n",
      " 2   Sexo                              80143 non-null  object \n",
      " 3   Valor_Renda                       80143 non-null  float64\n",
      " 4   UF_Cliente                        80143 non-null  object \n",
      " 5   Perc_Juros                        80143 non-null  float64\n",
      " 6   Prazo_Emprestimo                  80143 non-null  int64  \n",
      " 7   Data_Contratacao                  80143 non-null  object \n",
      " 8   Prazo_Restante                    80143 non-null  int64  \n",
      " 9   VL_Emprestimo                     80143 non-null  float64\n",
      " 10  VL_Emprestimo_ComJuros            80143 non-null  float64\n",
      " 11  QT_Total_Parcelas_Pagas           80143 non-null  int64  \n",
      " 12  QT_Total_Parcelas_Pagas_EmDia     80143 non-null  int64  \n",
      " 13  QT_Total_Parcelas_Pagas_EmAtraso  80143 non-null  int64  \n",
      " 14  Qt_Renegociacao                   80143 non-null  int64  \n",
      " 15  Estado_Civil                      80143 non-null  object \n",
      " 16  Escolaridade                      22845 non-null  object \n",
      " 17  Possui_Patrimonio                 80143 non-null  object \n",
      " 18  VL_Patrimonio                     80143 non-null  float64\n",
      " 19  QT_Parcelas_Atraso                80143 non-null  int64  \n",
      " 20  QT_Dias_Atraso                    54348 non-null  float64\n",
      " 21  Saldo_Devedor                     80143 non-null  float64\n",
      " 22  Total_Pago                        80143 non-null  float64\n",
      " 23  Possivel_Fraude                   80143 non-null  object \n",
      "dtypes: float64(8), int64(9), object(7)\n",
      "memory usage: 14.7+ MB\n"
     ]
    }
   ],
   "source": [
    "#visualizacao geral dos dados\n",
    "df.info(verbose=True)"
   ]
  },
  {
   "cell_type": "code",
   "execution_count": 677,
   "metadata": {},
   "outputs": [
    {
     "data": {
      "text/plain": [
       "Contrato                                0\n",
       "Idade                                   0\n",
       "Sexo                                    0\n",
       "Valor_Renda                             0\n",
       "UF_Cliente                              0\n",
       "Perc_Juros                              0\n",
       "Prazo_Emprestimo                        0\n",
       "Data_Contratacao                        0\n",
       "Prazo_Restante                          0\n",
       "VL_Emprestimo                           0\n",
       "VL_Emprestimo_ComJuros                  0\n",
       "QT_Total_Parcelas_Pagas                 0\n",
       "QT_Total_Parcelas_Pagas_EmDia           0\n",
       "QT_Total_Parcelas_Pagas_EmAtraso        0\n",
       "Qt_Renegociacao                         0\n",
       "Estado_Civil                            0\n",
       "Escolaridade                        57298\n",
       "Possui_Patrimonio                       0\n",
       "VL_Patrimonio                           0\n",
       "QT_Parcelas_Atraso                      0\n",
       "QT_Dias_Atraso                      25795\n",
       "Saldo_Devedor                           0\n",
       "Total_Pago                              0\n",
       "Possivel_Fraude                         0\n",
       "dtype: int64"
      ]
     },
     "execution_count": 677,
     "metadata": {},
     "output_type": "execute_result"
    }
   ],
   "source": [
    "#verificando o numero de valores nulos\n",
    "df.isnull().sum()"
   ]
  },
  {
   "cell_type": "markdown",
   "metadata": {},
   "source": [
    "As colunas  *Escolaridade* e *QT_Dias_Atraso* possuem valores ausentes                   "
   ]
  },
  {
   "cell_type": "code",
   "execution_count": 678,
   "metadata": {},
   "outputs": [
    {
     "data": {
      "text/plain": [
       "Contrato                              int64\n",
       "Idade                                 int64\n",
       "Sexo                                 object\n",
       "Valor_Renda                         float64\n",
       "UF_Cliente                           object\n",
       "Perc_Juros                          float64\n",
       "Prazo_Emprestimo                      int64\n",
       "Data_Contratacao                     object\n",
       "Prazo_Restante                        int64\n",
       "VL_Emprestimo                       float64\n",
       "VL_Emprestimo_ComJuros              float64\n",
       "QT_Total_Parcelas_Pagas               int64\n",
       "QT_Total_Parcelas_Pagas_EmDia         int64\n",
       "QT_Total_Parcelas_Pagas_EmAtraso      int64\n",
       "Qt_Renegociacao                       int64\n",
       "Estado_Civil                         object\n",
       "Escolaridade                         object\n",
       "Possui_Patrimonio                    object\n",
       "VL_Patrimonio                       float64\n",
       "QT_Parcelas_Atraso                    int64\n",
       "QT_Dias_Atraso                      float64\n",
       "Saldo_Devedor                       float64\n",
       "Total_Pago                          float64\n",
       "Possivel_Fraude                      object\n",
       "dtype: object"
      ]
     },
     "execution_count": 678,
     "metadata": {},
     "output_type": "execute_result"
    }
   ],
   "source": [
    "#verificando os tipos dos dados\n",
    "df.dtypes"
   ]
  },
  {
   "cell_type": "code",
   "execution_count": 679,
   "metadata": {},
   "outputs": [
    {
     "name": "stdout",
     "output_type": "stream",
     "text": [
      "Período dos dados de: 2020-11-25 até 2023-02-22\n"
     ]
    }
   ],
   "source": [
    "#observando o inicio e fim dos dados da coluna Data_Contratacao\n",
    "inicio = pd.to_datetime(df[\"Data_Contratacao\"]).dt.date.min() \n",
    "fim = pd.to_datetime(df[\"Data_Contratacao\"]).dt.date.max()\n",
    "\n",
    "print(\"Período dos dados de:\", inicio, \"até\", fim)"
   ]
  },
  {
   "cell_type": "markdown",
   "metadata": {},
   "source": [
    "O dataset tem dados de 25/11/2020 até 22/02/2023"
   ]
  },
  {
   "cell_type": "markdown",
   "metadata": {},
   "source": [
    "## Tratamento dos dados e Engenharia de atributos"
   ]
  },
  {
   "cell_type": "code",
   "execution_count": 680,
   "metadata": {},
   "outputs": [],
   "source": [
    "#otimizando a coluna Data_Contratacao para datetime64[ns]                  \n",
    "df[\"Data_Contratacao\"] = pd.to_datetime(df[\"Data_Contratacao\"])"
   ]
  },
  {
   "cell_type": "code",
   "execution_count": 681,
   "metadata": {},
   "outputs": [],
   "source": [
    "#otimizando colunas categoricas\n",
    "colunas_categoricas = [\"Sexo\", \"Estado_Civil\", \"Escolaridade\", \"Possui_Patrimonio\", \"Possivel_Fraude\"]\n",
    "\n",
    "for coluna in colunas_categoricas:\n",
    "\tdf[coluna] = df[coluna].astype(\"category\")"
   ]
  },
  {
   "cell_type": "code",
   "execution_count": 682,
   "metadata": {},
   "outputs": [
    {
     "data": {
      "text/plain": [
       "False"
      ]
     },
     "execution_count": 682,
     "metadata": {},
     "output_type": "execute_result"
    }
   ],
   "source": [
    "#verificando se a coluna escolaridade esta ordenada\n",
    "df[\"Escolaridade\"].cat.ordered"
   ]
  },
  {
   "cell_type": "code",
   "execution_count": 683,
   "metadata": {},
   "outputs": [
    {
     "data": {
      "text/plain": [
       "Escolaridade\n",
       "Nenhum                                  21168\n",
       "Ensino Médio                              902\n",
       "Ensino Superior                           600\n",
       "Ensino Fundamental                        126\n",
       "Pós Graduação / Mestrado / Doutorado       49\n",
       "Name: count, dtype: int64"
      ]
     },
     "execution_count": 683,
     "metadata": {},
     "output_type": "execute_result"
    }
   ],
   "source": [
    "#verificando os valores da coluna escolaridade\n",
    "df[\"Escolaridade\"].value_counts()"
   ]
  },
  {
   "cell_type": "code",
   "execution_count": 684,
   "metadata": {},
   "outputs": [
    {
     "name": "stdout",
     "output_type": "stream",
     "text": [
      "True\n",
      "[NaN, 'Nenhum', 'Ensino Médio', 'Ensino Superior', 'Ensino Fundamental', 'Pós Graduação / Mestrado / Doutorado']\n",
      "Categories (5, object): ['Nenhum' < 'Ensino Médio' < 'Ensino Superior' < 'Ensino Fundamental' < 'Pós Graduação / Mestrado / Doutorado']\n"
     ]
    }
   ],
   "source": [
    "#ordenando a coluna escolaridade\n",
    "escolaridade = [\"Nenhum\", \"Ensino Médio\", \"Ensino Superior\", \"Ensino Fundamental\", \"Pós Graduação / Mestrado / Doutorado\"]\n",
    "df[\"Escolaridade\"] = df[\"Escolaridade\"].cat.set_categories(escolaridade, ordered = True)\n",
    "\n",
    "print(df[\"Escolaridade\"].cat.ordered)\n",
    "print(df[\"Escolaridade\"].unique())"
   ]
  },
  {
   "cell_type": "code",
   "execution_count": 685,
   "metadata": {},
   "outputs": [],
   "source": [
    "#otimizando colunas numericas\n",
    "colunas_float = df.select_dtypes(include=\"float64\").columns\n",
    "colunas_int = df.select_dtypes(include=\"int64\").columns\n",
    "\n",
    "df[colunas_float] = df[colunas_float].apply(pd.to_numeric, downcast=\"float\")\n",
    "df[colunas_int] = df[colunas_int].apply(pd.to_numeric, downcast=\"integer\")"
   ]
  },
  {
   "cell_type": "code",
   "execution_count": 686,
   "metadata": {},
   "outputs": [
    {
     "name": "stdout",
     "output_type": "stream",
     "text": [
      "<class 'pandas.core.frame.DataFrame'>\n",
      "RangeIndex: 80143 entries, 0 to 80142\n",
      "Data columns (total 24 columns):\n",
      " #   Column                            Non-Null Count  Dtype         \n",
      "---  ------                            --------------  -----         \n",
      " 0   Contrato                          80143 non-null  int64         \n",
      " 1   Idade                             80143 non-null  int8          \n",
      " 2   Sexo                              80143 non-null  category      \n",
      " 3   Valor_Renda                       80143 non-null  float64       \n",
      " 4   UF_Cliente                        80143 non-null  object        \n",
      " 5   Perc_Juros                        80143 non-null  float32       \n",
      " 6   Prazo_Emprestimo                  80143 non-null  int16         \n",
      " 7   Data_Contratacao                  80143 non-null  datetime64[ns]\n",
      " 8   Prazo_Restante                    80143 non-null  int16         \n",
      " 9   VL_Emprestimo                     80143 non-null  float32       \n",
      " 10  VL_Emprestimo_ComJuros            80143 non-null  float32       \n",
      " 11  QT_Total_Parcelas_Pagas           80143 non-null  int8          \n",
      " 12  QT_Total_Parcelas_Pagas_EmDia     80143 non-null  int8          \n",
      " 13  QT_Total_Parcelas_Pagas_EmAtraso  80143 non-null  int8          \n",
      " 14  Qt_Renegociacao                   80143 non-null  int8          \n",
      " 15  Estado_Civil                      80143 non-null  category      \n",
      " 16  Escolaridade                      22845 non-null  category      \n",
      " 17  Possui_Patrimonio                 80143 non-null  category      \n",
      " 18  VL_Patrimonio                     80143 non-null  float32       \n",
      " 19  QT_Parcelas_Atraso                80143 non-null  int8          \n",
      " 20  QT_Dias_Atraso                    54348 non-null  float32       \n",
      " 21  Saldo_Devedor                     80143 non-null  float64       \n",
      " 22  Total_Pago                        80143 non-null  float64       \n",
      " 23  Possivel_Fraude                   80143 non-null  category      \n",
      "dtypes: category(5), datetime64[ns](1), float32(5), float64(3), int16(2), int64(1), int8(6), object(1)\n",
      "memory usage: 6.3+ MB\n"
     ]
    }
   ],
   "source": [
    "#verificando a mudanco de tamanho do dataset\n",
    "df.info()"
   ]
  },
  {
   "cell_type": "markdown",
   "metadata": {},
   "source": [
    "Reduzimos um pouco o tamanho do dataframe de 14.7 MB para 6.3 MB, e colocamos ordem na coluna *Escolaridade*"
   ]
  },
  {
   "cell_type": "code",
   "execution_count": 687,
   "metadata": {},
   "outputs": [
    {
     "data": {
      "text/plain": [
       "(80143, 24)"
      ]
     },
     "execution_count": 687,
     "metadata": {},
     "output_type": "execute_result"
    }
   ],
   "source": [
    "#removendo linhas duplicadas (neste dataset nao tem)\n",
    "df = df.drop_duplicates()\n",
    "df.shape"
   ]
  },
  {
   "cell_type": "code",
   "execution_count": 688,
   "metadata": {},
   "outputs": [
    {
     "data": {
      "text/plain": [
       "Estado_Civil\n",
       "CASADO(A)      24077\n",
       "DIVORCIADO      3787\n",
       "OUTRO           5916\n",
       "SOLTEIRO(A)    45205\n",
       "VIÚVO(A)        1158\n",
       "dtype: int64"
      ]
     },
     "execution_count": 688,
     "metadata": {},
     "output_type": "execute_result"
    }
   ],
   "source": [
    "#renomeando o estado civil \"NENHUM\" para \"OUTRO\", renomeando \"Uniao Estavel\" para \"Casado(A)\", e renomeando \"SEPARADO JUDICIALMENTE\" para \"DIVORCIADO\"\n",
    "df[\"Estado_Civil\"] = df[\"Estado_Civil\"].replace([\"NENHUM\"], \"OUTRO\")\n",
    "df[\"Estado_Civil\"] = df[\"Estado_Civil\"].replace([\"UNIÃO ESTAVEL\" , \"CASADO (A)\"], \"CASADO(A)\")\n",
    "df[\"Estado_Civil\"] = df[\"Estado_Civil\"].replace([\"SEPARADO JUDICIALMENTE\"], \"DIVORCIADO\")\n",
    "\n",
    "df.groupby([\"Estado_Civil\"]).size()"
   ]
  },
  {
   "cell_type": "code",
   "execution_count": 689,
   "metadata": {},
   "outputs": [
    {
     "data": {
      "text/plain": [
       "Contrato                            80143\n",
       "Idade                                  86\n",
       "Sexo                                    2\n",
       "Valor_Renda                          4747\n",
       "UF_Cliente                             27\n",
       "Perc_Juros                             53\n",
       "Prazo_Emprestimo                       60\n",
       "Data_Contratacao                      751\n",
       "Prazo_Restante                         93\n",
       "VL_Emprestimo                          73\n",
       "VL_Emprestimo_ComJuros                 73\n",
       "QT_Total_Parcelas_Pagas                50\n",
       "QT_Total_Parcelas_Pagas_EmDia          48\n",
       "QT_Total_Parcelas_Pagas_EmAtraso       32\n",
       "Qt_Renegociacao                        15\n",
       "Estado_Civil                            5\n",
       "Escolaridade                            5\n",
       "Possui_Patrimonio                       2\n",
       "VL_Patrimonio                           4\n",
       "QT_Parcelas_Atraso                     35\n",
       "QT_Dias_Atraso                         38\n",
       "Saldo_Devedor                       64166\n",
       "Total_Pago                          54074\n",
       "Possivel_Fraude                         2\n",
       "dtype: int64"
      ]
     },
     "execution_count": 689,
     "metadata": {},
     "output_type": "execute_result"
    }
   ],
   "source": [
    "#verificando novamente o numero de valores unicos de cada coluna\n",
    "df.nunique()"
   ]
  },
  {
   "cell_type": "code",
   "execution_count": 690,
   "metadata": {},
   "outputs": [
    {
     "data": {
      "text/html": [
       "<div>\n",
       "<style scoped>\n",
       "    .dataframe tbody tr th:only-of-type {\n",
       "        vertical-align: middle;\n",
       "    }\n",
       "\n",
       "    .dataframe tbody tr th {\n",
       "        vertical-align: top;\n",
       "    }\n",
       "\n",
       "    .dataframe thead th {\n",
       "        text-align: right;\n",
       "    }\n",
       "</style>\n",
       "<table border=\"1\" class=\"dataframe\">\n",
       "  <thead>\n",
       "    <tr style=\"text-align: right;\">\n",
       "      <th></th>\n",
       "      <th>Idade</th>\n",
       "      <th>Valor_Renda</th>\n",
       "      <th>Total_Pago</th>\n",
       "      <th>QT_Dias_Atraso</th>\n",
       "      <th>Saldo_Devedor</th>\n",
       "      <th>Prazo_Emprestimo</th>\n",
       "      <th>Prazo_Restante</th>\n",
       "    </tr>\n",
       "  </thead>\n",
       "  <tbody>\n",
       "    <tr>\n",
       "      <th>count</th>\n",
       "      <td>80143.00</td>\n",
       "      <td>80143.00</td>\n",
       "      <td>80143.00</td>\n",
       "      <td>54348.00</td>\n",
       "      <td>80143.00</td>\n",
       "      <td>80143.00</td>\n",
       "      <td>80143.00</td>\n",
       "    </tr>\n",
       "    <tr>\n",
       "      <th>mean</th>\n",
       "      <td>38.82</td>\n",
       "      <td>29308.62</td>\n",
       "      <td>9687.98</td>\n",
       "      <td>475.26</td>\n",
       "      <td>78622.32</td>\n",
       "      <td>102.33</td>\n",
       "      <td>93.28</td>\n",
       "    </tr>\n",
       "    <tr>\n",
       "      <th>std</th>\n",
       "      <td>12.53</td>\n",
       "      <td>2748166.27</td>\n",
       "      <td>19090.62</td>\n",
       "      <td>269.79</td>\n",
       "      <td>102318.95</td>\n",
       "      <td>62.32</td>\n",
       "      <td>70.64</td>\n",
       "    </tr>\n",
       "    <tr>\n",
       "      <th>min</th>\n",
       "      <td>4.00</td>\n",
       "      <td>0.00</td>\n",
       "      <td>0.00</td>\n",
       "      <td>11.00</td>\n",
       "      <td>0.00</td>\n",
       "      <td>14.00</td>\n",
       "      <td>-18.00</td>\n",
       "    </tr>\n",
       "    <tr>\n",
       "      <th>25%</th>\n",
       "      <td>29.00</td>\n",
       "      <td>2050.00</td>\n",
       "      <td>1052.16</td>\n",
       "      <td>284.00</td>\n",
       "      <td>12122.76</td>\n",
       "      <td>55.00</td>\n",
       "      <td>36.00</td>\n",
       "    </tr>\n",
       "    <tr>\n",
       "      <th>50%</th>\n",
       "      <td>37.00</td>\n",
       "      <td>3000.00</td>\n",
       "      <td>3951.39</td>\n",
       "      <td>468.00</td>\n",
       "      <td>35489.36</td>\n",
       "      <td>80.00</td>\n",
       "      <td>78.00</td>\n",
       "    </tr>\n",
       "    <tr>\n",
       "      <th>75%</th>\n",
       "      <td>46.00</td>\n",
       "      <td>5000.00</td>\n",
       "      <td>10886.24</td>\n",
       "      <td>708.00</td>\n",
       "      <td>117783.25</td>\n",
       "      <td>170.00</td>\n",
       "      <td>156.00</td>\n",
       "    </tr>\n",
       "    <tr>\n",
       "      <th>max</th>\n",
       "      <td>103.00</td>\n",
       "      <td>765000000.00</td>\n",
       "      <td>465821.39</td>\n",
       "      <td>1014.00</td>\n",
       "      <td>626261.27</td>\n",
       "      <td>240.00</td>\n",
       "      <td>227.00</td>\n",
       "    </tr>\n",
       "  </tbody>\n",
       "</table>\n",
       "</div>"
      ],
      "text/plain": [
       "         Idade  Valor_Renda  Total_Pago  QT_Dias_Atraso  Saldo_Devedor  \\\n",
       "count 80143.00     80143.00    80143.00        54348.00       80143.00   \n",
       "mean     38.82     29308.62     9687.98          475.26       78622.32   \n",
       "std      12.53   2748166.27    19090.62          269.79      102318.95   \n",
       "min       4.00         0.00        0.00           11.00           0.00   \n",
       "25%      29.00      2050.00     1052.16          284.00       12122.76   \n",
       "50%      37.00      3000.00     3951.39          468.00       35489.36   \n",
       "75%      46.00      5000.00    10886.24          708.00      117783.25   \n",
       "max     103.00 765000000.00   465821.39         1014.00      626261.27   \n",
       "\n",
       "       Prazo_Emprestimo  Prazo_Restante  \n",
       "count          80143.00        80143.00  \n",
       "mean             102.33           93.28  \n",
       "std               62.32           70.64  \n",
       "min               14.00          -18.00  \n",
       "25%               55.00           36.00  \n",
       "50%               80.00           78.00  \n",
       "75%              170.00          156.00  \n",
       "max              240.00          227.00  "
      ]
     },
     "execution_count": 690,
     "metadata": {},
     "output_type": "execute_result"
    }
   ],
   "source": [
    "df[[\"Idade\", \"Valor_Renda\", \"Total_Pago\", \"QT_Dias_Atraso\", \"Saldo_Devedor\", \"Prazo_Emprestimo\", \"Prazo_Restante\"]].describe()"
   ]
  },
  {
   "cell_type": "code",
   "execution_count": 691,
   "metadata": {},
   "outputs": [],
   "source": [
    "#criando intervalos de dados para colunas com muitos dados distintos (Valor Renda, Idade, Total Pago, Dias de atraso, Saldo Devedor, Prazo Emprestimo(meses), Prazo Restante(meses))\n",
    "faixas = [0, 20, 30, 40, 50, 60, 70, 110]\n",
    "categorias = [\"0-20 Anos\", \"21-30 Anos\", \"31-40 Anos\", \"41-50 Anos\", \"51-60 Anos\", \"61-70 Anos\", \"71-110 Anos\"]\n",
    "df[\"Faixa_Etaria\"] = pd.cut(df[\"Idade\"], bins=faixas, labels=categorias)\n",
    "\n",
    "#verificando os intervalos\n",
    "#df.groupby([\"Faixa_Etaria\", \"Idade\"]).size()\n"
   ]
  },
  {
   "cell_type": "code",
   "execution_count": 692,
   "metadata": {},
   "outputs": [
    {
     "name": "stdout",
     "output_type": "stream",
     "text": [
      "True\n",
      "['41-50 Anos', '31-40 Anos', '21-30 Anos', '0-20 Anos', '51-60 Anos', '61-70 Anos', '71-110 Anos']\n",
      "Categories (7, object): ['0-20 Anos' < '21-30 Anos' < '31-40 Anos' < '41-50 Anos' < '51-60 Anos' < '61-70 Anos' < '71-110 Anos']\n"
     ]
    }
   ],
   "source": [
    "#ordenando a coluna Faixa_Etaria\n",
    "categorias = [\"0-20 Anos\", \"21-30 Anos\", \"31-40 Anos\", \"41-50 Anos\", \"51-60 Anos\", \"61-70 Anos\", \"71-110 Anos\"]\n",
    "df[\"Faixa_Etaria\"] = df[\"Faixa_Etaria\"].cat.set_categories(categorias, ordered = True)\n",
    "\n",
    "print(df[\"Faixa_Etaria\"].cat.ordered)\n",
    "print(df[\"Faixa_Etaria\"].unique())"
   ]
  },
  {
   "cell_type": "code",
   "execution_count": 693,
   "metadata": {},
   "outputs": [
    {
     "data": {
      "text/plain": [
       "Faixa_Salarial\n",
       "Até 1000         255\n",
       "1k - 3k        41119\n",
       "3k - 5k        21105\n",
       "5k - 10k       11680\n",
       "10k - 20k       3505\n",
       "20k - 50k       1574\n",
       "50k - 100k       354\n",
       "100k - 500k      390\n",
       "500k - 1kk        46\n",
       "1kk - 5kk         60\n",
       "Mais de 5kk       55\n",
       "dtype: int64"
      ]
     },
     "execution_count": 693,
     "metadata": {},
     "output_type": "execute_result"
    }
   ],
   "source": [
    "#faixa salarial min: 0 e max: 765.000.000\n",
    "faixas = [-1, 1000, 3000, 5000, 10000, 20000, 50000, 100000, 500000, 1000000, 5000000, 999000000]\n",
    "categorias = [\"Até 1000\", \"1k - 3k\", \"3k - 5k\", \"5k - 10k\", \"10k - 20k\", \"20k - 50k\", \"50k - 100k\", \"100k - 500k\", \"500k - 1kk\", \"1kk - 5kk\", \"Mais de 5kk\"]\n",
    "df[\"Faixa_Salarial\"] = pd.cut(df[\"Valor_Renda\"], bins=faixas, labels=categorias)\n",
    "\n",
    "#verificando os intervalos\n",
    "df.groupby([\"Faixa_Salarial\"]).size()"
   ]
  },
  {
   "cell_type": "code",
   "execution_count": 694,
   "metadata": {},
   "outputs": [
    {
     "name": "stdout",
     "output_type": "stream",
     "text": [
      "True\n",
      "['3k - 5k', '1k - 3k', '5k - 10k', '10k - 20k', '20k - 50k', ..., '500k - 1kk', '50k - 100k', 'Mais de 5kk', '1kk - 5kk', '100k - 500k']\n",
      "Length: 11\n",
      "Categories (11, object): ['Até 1000' < '1k - 3k' < '3k - 5k' < '5k - 10k' ... '100k - 500k' < '500k - 1kk' < '1kk - 5kk' < 'Mais de 5kk']\n"
     ]
    }
   ],
   "source": [
    "#ordenando a coluna Faixa_Salarial\n",
    "categorias = [\"Até 1000\", \"1k - 3k\", \"3k - 5k\", \"5k - 10k\", \"10k - 20k\", \"20k - 50k\", \"50k - 100k\", \"100k - 500k\", \"500k - 1kk\", \"1kk - 5kk\", \"Mais de 5kk\"]\n",
    "df[\"Faixa_Salarial\"] = df[\"Faixa_Salarial\"].cat.set_categories(categorias, ordered = True)\n",
    "\n",
    "print(df[\"Faixa_Salarial\"].cat.ordered)\n",
    "print(df[\"Faixa_Salarial\"].unique())"
   ]
  },
  {
   "cell_type": "code",
   "execution_count": 695,
   "metadata": {},
   "outputs": [
    {
     "name": "stdout",
     "output_type": "stream",
     "text": [
      "Mediana 468.0\n",
      "Media 475.2605\n"
     ]
    }
   ],
   "source": [
    "#verificando media e mediana da coluna \"QT_Dias_Atraso\"\n",
    "print(\"Mediana\", df[\"QT_Dias_Atraso\"].median())\n",
    "print(\"Media\", df[\"QT_Dias_Atraso\"].mean())"
   ]
  },
  {
   "cell_type": "code",
   "execution_count": 696,
   "metadata": {},
   "outputs": [
    {
     "data": {
      "text/plain": [
       "QT_Dias_Atraso    0\n",
       "dtype: int64"
      ]
     },
     "execution_count": 696,
     "metadata": {},
     "output_type": "execute_result"
    }
   ],
   "source": [
    "#verificamos antes que a coluna \"QT_Dias_Atraso\" tem 25795 valores faltando, vamos substituir eles com a mediana \n",
    "df[\"QT_Dias_Atraso\"] = df[\"QT_Dias_Atraso\"].fillna((df[\"QT_Dias_Atraso\"].median()))\n",
    "df[[\"QT_Dias_Atraso\"]].isnull().sum()"
   ]
  },
  {
   "cell_type": "code",
   "execution_count": 697,
   "metadata": {},
   "outputs": [],
   "source": [
    "#\"QT_Dias_Atraso\" tem valor min: 11 e max 1014\n",
    "faixas = [0, 30, 60, 90, 120, 150, 180, 210, 240, 270, 300, 330, 366, 9999]\n",
    "categorias = [\"Até 30 dias\", \"De 30 - 60 dias\", \"De 60 - 90 dias\", \"De 90 - 120 dias\", \"De 120 - 150 dias\", \"De 150 - 180 dias\", \"De 180 - 210 dias\", \"De 210 - 240 dias\", \"De 240 - 270 dias\", \"De 270 -  300 dias\", \"De 300 - 330 dias\", \"De 330 - 1 ano\", \"Mais de 1 ano\"]\n",
    "df[\"Faixa_Dias_Atraso\"] = pd.cut(df[\"QT_Dias_Atraso\"], bins=faixas, labels=categorias)\n",
    "\n",
    "#verificando os intervalos\n",
    "#df.groupby([\"Faixa_Dias_Atraso\"]).size()\n",
    "#df.groupby([\"Faixa_Dias_Atraso\", \"QT_Dias_Atraso\"]).size()"
   ]
  },
  {
   "cell_type": "code",
   "execution_count": 698,
   "metadata": {},
   "outputs": [
    {
     "name": "stdout",
     "output_type": "stream",
     "text": [
      "True\n",
      "['De 270 -  300 dias', 'Mais de 1 ano', 'De 30 - 60 dias', 'De 150 - 180 dias', 'De 240 - 270 dias', ..., 'De 60 - 90 dias', 'De 300 - 330 dias', 'De 210 - 240 dias', 'De 180 - 210 dias', 'De 120 - 150 dias']\n",
      "Length: 13\n",
      "Categories (13, object): ['Até 30 dias' < 'De 30 - 60 dias' < 'De 60 - 90 dias' < 'De 90 - 120 dias' ... 'De 270 -  300 dias' < 'De 300 - 330 dias' < 'De 330 - 1 ano' < 'Mais de 1 ano']\n"
     ]
    }
   ],
   "source": [
    "#ordenando a coluna Faixa_Dias_Atraso\n",
    "categorias = [\"Até 30 dias\", \"De 30 - 60 dias\", \"De 60 - 90 dias\", \"De 90 - 120 dias\", \"De 120 - 150 dias\", \"De 150 - 180 dias\", \"De 180 - 210 dias\", \"De 210 - 240 dias\", \"De 240 - 270 dias\", \"De 270 -  300 dias\", \"De 300 - 330 dias\", \"De 330 - 1 ano\", \"Mais de 1 ano\"]\n",
    "df[\"Faixa_Dias_Atraso\"] = df[\"Faixa_Dias_Atraso\"].cat.set_categories(categorias, ordered = True)\n",
    "\n",
    "print(df[\"Faixa_Dias_Atraso\"].cat.ordered)\n",
    "print(df[\"Faixa_Dias_Atraso\"].unique())"
   ]
  },
  {
   "cell_type": "code",
   "execution_count": 699,
   "metadata": {},
   "outputs": [
    {
     "data": {
      "text/plain": [
       "Faixa_Total_Pago\n",
       "Até 1k            19571\n",
       "De 1k - 2k         9968\n",
       "De 2k - 5k        14883\n",
       "De 5k - 10k       13858\n",
       "De 10k - 20k      11950\n",
       "De 20k - 50k       7879\n",
       "De 50k - 100k      1525\n",
       "De 100k - 250k      421\n",
       "De 250k - 400k       82\n",
       "Mais de 400k          6\n",
       "dtype: int64"
      ]
     },
     "execution_count": 699,
     "metadata": {},
     "output_type": "execute_result"
    }
   ],
   "source": [
    "#Total Pago min: 0 e max: 465.821,39\n",
    "faixas = [-1, 1000, 2000, 5000, 10000, 20000, 50000, 100000, 250000, 400000, 999999]\n",
    "categorias = [\"Até 1k\", \"De 1k - 2k\", \"De 2k - 5k\", \"De 5k - 10k\", \"De 10k - 20k\", \"De 20k - 50k\", \"De 50k - 100k\", \"De 100k - 250k\", \"De 250k - 400k\",  \"Mais de 400k\"]\n",
    "df[\"Faixa_Total_Pago\"] = pd.cut(df[\"Total_Pago\"], bins=faixas, labels=categorias)\n",
    "\n",
    "#verificando os intervalos\n",
    "df.groupby([\"Faixa_Total_Pago\"]).size()\n"
   ]
  },
  {
   "cell_type": "code",
   "execution_count": 700,
   "metadata": {},
   "outputs": [
    {
     "name": "stdout",
     "output_type": "stream",
     "text": [
      "True\n",
      "['De 1k - 2k', 'De 20k - 50k', 'Até 1k', 'De 5k - 10k', 'De 2k - 5k', 'De 10k - 20k', 'De 50k - 100k', 'De 100k - 250k', 'De 250k - 400k', 'Mais de 400k']\n",
      "Categories (10, object): ['Até 1k' < 'De 1k - 2k' < 'De 2k - 5k' < 'De 5k - 10k' ... 'De 50k - 100k' < 'De 100k - 250k' < 'De 250k - 400k' < 'Mais de 400k']\n"
     ]
    }
   ],
   "source": [
    "#ordenando a coluna Faixa_Total_Pago\n",
    "categorias = [\"Até 1k\", \"De 1k - 2k\", \"De 2k - 5k\", \"De 5k - 10k\", \"De 10k - 20k\", \"De 20k - 50k\", \"De 50k - 100k\", \"De 100k - 250k\", \"De 250k - 400k\",  \"Mais de 400k\"]\n",
    "df[\"Faixa_Total_Pago\"] = df[\"Faixa_Total_Pago\"].cat.set_categories(categorias, ordered = True)\n",
    "\n",
    "print(df[\"Faixa_Total_Pago\"].cat.ordered)\n",
    "print(df[\"Faixa_Total_Pago\"].unique())"
   ]
  },
  {
   "cell_type": "code",
   "execution_count": 701,
   "metadata": {},
   "outputs": [
    {
     "data": {
      "text/plain": [
       "Faixa_Saldo_Devedor\n",
       "Até 1k             3636\n",
       "De 1k - 2k          857\n",
       "De 2k - 5k         4242\n",
       "De 5k - 10k        8347\n",
       "De 10k - 20k      10782\n",
       "De 20k - 50k      19807\n",
       "De 50k - 100k      9532\n",
       "De 100k - 250k    17433\n",
       "De 250k - 500k     4871\n",
       "Mais de 500k        636\n",
       "dtype: int64"
      ]
     },
     "execution_count": 701,
     "metadata": {},
     "output_type": "execute_result"
    }
   ],
   "source": [
    "#Saldo Devedor min: 0 e max: 626.261,27\n",
    "faixas = [-1, 1000, 2000, 5000, 10000, 20000, 50000, 100000, 250000, 500000, 999999]\n",
    "categorias = [\"Até 1k\", \"De 1k - 2k\", \"De 2k - 5k\", \"De 5k - 10k\", \"De 10k - 20k\", \"De 20k - 50k\", \"De 50k - 100k\", \"De 100k - 250k\", \"De 250k - 500k\",  \"Mais de 500k\"]\n",
    "df[\"Faixa_Saldo_Devedor\"] = pd.cut(df[\"Saldo_Devedor\"], bins=faixas, labels=categorias)\n",
    "\n",
    "#verificando os intervalos\n",
    "df.groupby([\"Faixa_Saldo_Devedor\"]).size()"
   ]
  },
  {
   "cell_type": "code",
   "execution_count": 702,
   "metadata": {},
   "outputs": [
    {
     "name": "stdout",
     "output_type": "stream",
     "text": [
      "True\n",
      "['De 100k - 250k', 'De 10k - 20k', 'De 50k - 100k', 'De 20k - 50k', 'De 2k - 5k', 'De 250k - 500k', 'De 5k - 10k', 'De 1k - 2k', 'Até 1k', 'Mais de 500k']\n",
      "Categories (10, object): ['Até 1k' < 'De 1k - 2k' < 'De 2k - 5k' < 'De 5k - 10k' ... 'De 50k - 100k' < 'De 100k - 250k' < 'De 250k - 500k' < 'Mais de 500k']\n"
     ]
    }
   ],
   "source": [
    "#ordenando a coluna Faixa_Saldo_Devedor\n",
    "categorias = [\"Até 1k\", \"De 1k - 2k\", \"De 2k - 5k\", \"De 5k - 10k\", \"De 10k - 20k\", \"De 20k - 50k\", \"De 50k - 100k\", \"De 100k - 250k\", \"De 250k - 500k\",  \"Mais de 500k\"]\n",
    "df[\"Faixa_Saldo_Devedor\"] = df[\"Faixa_Saldo_Devedor\"].cat.set_categories(categorias, ordered = True)\n",
    "\n",
    "print(df[\"Faixa_Saldo_Devedor\"].cat.ordered)\n",
    "print(df[\"Faixa_Saldo_Devedor\"].unique())"
   ]
  },
  {
   "cell_type": "code",
   "execution_count": 703,
   "metadata": {},
   "outputs": [
    {
     "data": {
      "text/plain": [
       "Faixa_Prazo_Emprestimo\n",
       "Até 60 Meses            31764\n",
       "De 61 até 120 Meses     25123\n",
       "De 121 até 200 Meses    21455\n",
       "Acima de 200 Meses       1801\n",
       "dtype: int64"
      ]
     },
     "execution_count": 703,
     "metadata": {},
     "output_type": "execute_result"
    }
   ],
   "source": [
    "#Prazo Emprestimo(meses) min: 14 e max: 240.00\n",
    "faixas = [-1, 60, 120, 200, 720]\n",
    "categorias = [\"Até 60 Meses\", \"De 61 até 120 Meses\", \"De 121 até 200 Meses\", \"Acima de 200 Meses\"]\n",
    "df[\"Faixa_Prazo_Emprestimo\"] = pd.cut(df[\"Prazo_Emprestimo\"], bins=faixas, labels=categorias)\n",
    "\n",
    "#verificando os intervalos\n",
    "df.groupby([\"Faixa_Prazo_Emprestimo\"]).size()"
   ]
  },
  {
   "cell_type": "code",
   "execution_count": 704,
   "metadata": {},
   "outputs": [
    {
     "name": "stdout",
     "output_type": "stream",
     "text": [
      "True\n",
      "['De 121 até 200 Meses', 'Até 60 Meses', 'De 61 até 120 Meses', 'Acima de 200 Meses']\n",
      "Categories (4, object): ['Até 60 Meses' < 'De 61 até 120 Meses' < 'De 121 até 200 Meses' < 'Acima de 200 Meses']\n"
     ]
    }
   ],
   "source": [
    "#ordenando a coluna Faixa_Prazo_Emprestimo\n",
    "categorias = [\"Até 60 Meses\", \"De 61 até 120 Meses\", \"De 121 até 200 Meses\", \"Acima de 200 Meses\"]\n",
    "df[\"Faixa_Prazo_Emprestimo\"] = df[\"Faixa_Prazo_Emprestimo\"].cat.set_categories(categorias, ordered = True)\n",
    "\n",
    "print(df[\"Faixa_Prazo_Emprestimo\"].cat.ordered)\n",
    "print(df[\"Faixa_Prazo_Emprestimo\"].unique())"
   ]
  },
  {
   "cell_type": "code",
   "execution_count": 705,
   "metadata": {},
   "outputs": [
    {
     "data": {
      "text/plain": [
       "Faixa_Prazo_Restante\n",
       "Até 60 Meses            31032\n",
       "De 61 até 120 Meses     24752\n",
       "De 121 até 200 Meses    15266\n",
       "Acima de 200 Meses       9093\n",
       "dtype: int64"
      ]
     },
     "execution_count": 705,
     "metadata": {},
     "output_type": "execute_result"
    }
   ],
   "source": [
    "#Prazo Restante(meses) min: -18.00 e max: 227\n",
    "faixas = [-20, 60, 120, 200, 500]\n",
    "categorias = [\"Até 60 Meses\", \"De 61 até 120 Meses\", \"De 121 até 200 Meses\", \"Acima de 200 Meses\"]\n",
    "df[\"Faixa_Prazo_Restante\"] = pd.cut(df[\"Prazo_Restante\"], bins=faixas, labels=categorias)\n",
    "\n",
    "#verificando os intervalos\n",
    "df.groupby([\"Faixa_Prazo_Restante\"]).size()"
   ]
  },
  {
   "cell_type": "code",
   "execution_count": 706,
   "metadata": {},
   "outputs": [
    {
     "name": "stdout",
     "output_type": "stream",
     "text": [
      "True\n",
      "['De 121 até 200 Meses', 'Até 60 Meses', 'De 61 até 120 Meses', 'Acima de 200 Meses']\n",
      "Categories (4, object): ['Até 60 Meses' < 'De 61 até 120 Meses' < 'De 121 até 200 Meses' < 'Acima de 200 Meses']\n"
     ]
    }
   ],
   "source": [
    "#ordenando a coluna Faixa_Prazo_Restante\n",
    "categorias = [\"Até 60 Meses\", \"De 61 até 120 Meses\", \"De 121 até 200 Meses\", \"Acima de 200 Meses\"]\n",
    "df[\"Faixa_Prazo_Restante\"] = df[\"Faixa_Prazo_Restante\"].cat.set_categories(categorias, ordered = True)\n",
    "\n",
    "print(df[\"Faixa_Prazo_Restante\"].cat.ordered)\n",
    "print(df[\"Faixa_Prazo_Restante\"].unique())"
   ]
  },
  {
   "cell_type": "code",
   "execution_count": 707,
   "metadata": {},
   "outputs": [
    {
     "data": {
      "text/plain": [
       "58655         Sudeste\n",
       "66465         Sudeste\n",
       "10649        Nordeste\n",
       "22001    Centro_Oeste\n",
       "23891    Centro_Oeste\n",
       "13771             Sul\n",
       "52219        Nordeste\n",
       "Name: Regiao_UF_Cliente, dtype: object"
      ]
     },
     "execution_count": 707,
     "metadata": {},
     "output_type": "execute_result"
    }
   ],
   "source": [
    "#mapeando cada estado para uma regiao\n",
    "\n",
    "norte = [\"AC\", \"AP\", \"AM\", \"PA\", \"RO\", \"RR\", \"TO\"]\n",
    "nordeste = [\"AL\", \"BA\", \"CE\", \"MA\", \"PB\", \"PE\", \"PI\", \"RN\", \"SE\"]\n",
    "sudeste = [\"ES\", \"MG\", \"RJ\", \"SP\"]\n",
    "sul = [\"PR\", \"RS\", \"SC\"]\n",
    "centro_oeste = [\"DF\", \"GO\", \"MT\", \"MS\"]\n",
    "\n",
    "regiao_estados = {}\n",
    "\n",
    "for estado in norte:\n",
    "    regiao_estados[estado] = \"Norte\"\n",
    "    \n",
    "for estado in nordeste:\n",
    "    regiao_estados[estado] = \"Nordeste\"    \n",
    "    \n",
    "for estado in sudeste:\n",
    "    regiao_estados[estado] = \"Sudeste\"   \n",
    "    \n",
    "for estado in sul:\n",
    "    regiao_estados[estado] = \"Sul\"  \n",
    "    \n",
    "for estado in centro_oeste:\n",
    "    regiao_estados[estado] = \"Centro_Oeste\"         \n",
    "    \n",
    "def get_region(estado):\n",
    "    return regiao_estados.get(estado, \"Nenhum\")\n",
    "\n",
    "df[\"Regiao_UF_Cliente\"] = df[\"UF_Cliente\"].apply(get_region)\n",
    "df[\"Regiao_UF_Cliente\"].sample(7)"
   ]
  },
  {
   "cell_type": "markdown",
   "metadata": {},
   "source": [
    "## Visualização com gráficos"
   ]
  },
  {
   "cell_type": "code",
   "execution_count": 708,
   "metadata": {},
   "outputs": [],
   "source": [
    "# #grafico de barras mostrando as faixas de saldo devedor por sexo\n",
    "\n",
    "# df_count = df.groupby([\"Faixa_Saldo_Devedor\", \"Sexo\"]).size().reset_index(name=\"Count\")\n",
    "\n",
    "# ordenando os dados\n",
    "# df_count = df_count.sort_values(by=\"Count\", ascending=False)\n",
    "\n",
    "# fig = px.bar(df_count, x=\"Faixa_Saldo_Devedor\", y=\"Count\", color=\"Sexo\", text_auto=True, title=\"Número de Clientes por Saldo Devedor e por Sexo\",template=\"plotly_dark\")\n",
    "# fig.update_traces(dict(marker_line_width=0))\n",
    "# fig.show()\n",
    "# fig.write_html(\"html/ClientesSaldoSexo.html\", full_html=False, include_plotlyjs='cdn')"
   ]
  },
  {
   "cell_type": "code",
   "execution_count": 709,
   "metadata": {},
   "outputs": [],
   "source": [
    "#valor de renda por escolaridade sem a informacao \"Nenhum\" \n",
    "\n",
    "# df_count = df.groupby([\"Escolaridade\", \"Faixa_Salarial\"]).size().reset_index(name=\"Count\")\n",
    "\n",
    "# ordenando os dados\n",
    "# df_count = df_count.sort_values(by=\"Count\", ascending=False)\n",
    "\n",
    "# filtro = df_count[df_count[\"Escolaridade\"] != \"Nenhum\"]\n",
    "# fig = px.bar(filtro, barmode = \"group\",  x=\"Faixa_Salarial\", y=\"Count\", color=\"Escolaridade\", text_auto=True, title=\"Faixa de Salário por Escolaridade (Sem a Escolaridade = Nenhum)\",template=\"plotly_dark\")\n",
    "# fig.update_traces(dict(marker_line_width=0))\n",
    "# fig.show()\n",
    "# fig.write_html(\"html/EscolaridadeSalario.html\", full_html=False, include_plotlyjs='cdn')"
   ]
  },
  {
   "cell_type": "code",
   "execution_count": 710,
   "metadata": {},
   "outputs": [],
   "source": [
    "#grafico sobre a quantidade de parcelas pagas, pagas em dia e pagas em atraso\n",
    "\n",
    "# total_em_dia = df[\"QT_Total_Parcelas_Pagas_EmDia\"].sum()\n",
    "# total_em_atraso = df[\"QT_Total_Parcelas_Pagas_EmAtraso\"].sum()\n",
    "\n",
    "# filtro = pd.DataFrame({\n",
    "#     \"Status\": [\"Em Dia\", \"Em Atraso\"],\n",
    "#     \"Count\": [total_em_dia, total_em_atraso]\n",
    "# })\n",
    "\n",
    "# fig = px.pie(filtro, names=\"Status\", values=\"Count\", title=\"Distribuição de Pagamentos em Dia x Em Atraso\",template=\"plotly_dark\")\n",
    "\n",
    "# # porcentagem\n",
    "# fig.update_traces(textinfo=\"percent+label\", textfont_size=15, marker=dict(line=dict(color='#000000', width=2)))\n",
    "\n",
    "# # customizacao do hover\n",
    "# fig.update_traces(hoverinfo=\"label+percent+value\")\n",
    "\n",
    "# # ajustando o layout\n",
    "# fig.update_layout(title_font_size=20, title_x=0.5, legend_title_text=\"Status do Pagamento\")\n",
    "\n",
    "# fig.show()\n",
    "# fig.write_html(\"html/ParcelasPagas.html\", full_html=False, include_plotlyjs='cdn')"
   ]
  },
  {
   "cell_type": "code",
   "execution_count": 711,
   "metadata": {},
   "outputs": [],
   "source": [
    "#grafico das regioes\n",
    "\n",
    "#selecionando o numero de clientes por estado\n",
    "\n",
    "# df_count = df[\"UF_Cliente\"].value_counts().reset_index()\n",
    "# df_count.columns = [\"UF_Cliente\", \"Quantidade\"]\n",
    "\n",
    "# fig = px.choropleth(df_count, \n",
    "#                     geojson=\"https://raw.githubusercontent.com/codeforamerica/click_that_hood/master/public/data/brazil-states.geojson\", \n",
    "#                     locations=\"UF_Cliente\", \n",
    "#                     featureidkey=\"properties.sigla\", \n",
    "#                     color=\"Quantidade\",\n",
    "#                     title=\"Clientes por Estados\",\n",
    "#                     scope=\"south america\",\n",
    "#                     )\n",
    "\n",
    "# fig.update_geos(fitbounds=\"locations\", visible=False)\n",
    "# fig.update_layout(\n",
    "#     margin={\"r\":0,\"t\":50,\"l\":0,\"b\":0},\n",
    "#     title_text=\"Número de clientes por estado\",\n",
    "#     template=\"plotly_dark\"  \n",
    "# )\n",
    "\n",
    "# fig.show()\n",
    "# fig.write_html(\"html/ClientesEstado.html\", full_html=False, include_plotlyjs='cdn')"
   ]
  },
  {
   "cell_type": "code",
   "execution_count": 712,
   "metadata": {},
   "outputs": [],
   "source": [
    "#grafico de estado civil x media de parcelas em atraso\n",
    "\n",
    "# df_mean = df.groupby(\"Estado_Civil\")[\"QT_Parcelas_Atraso\"].mean().reset_index()\n",
    "# df_mean.columns = [\"Estado_Civil\", \"media_QT_Parcelas_Atraso\"]\n",
    "\n",
    "# fig = px.pie(df_mean, \n",
    "#             names=\"Estado_Civil\", \n",
    "#             values=\"media_QT_Parcelas_Atraso\", \n",
    "#             title=\"Média da Quantidade de Parcelas em Atraso por Estado Civil\",\n",
    "#             color=\"media_QT_Parcelas_Atraso\",\n",
    "#             template=\"plotly_dark\")\n",
    "# fig.update_traces(dict(marker_line_width=0))\n",
    "# fig.show()\n",
    "# fig.write_html(\"html/EstadoCivilParcelas.html\", full_html=False, include_plotlyjs='cdn')"
   ]
  },
  {
   "cell_type": "code",
   "execution_count": 713,
   "metadata": {},
   "outputs": [],
   "source": [
    "#sunburst da quantidade de Parcelas em Atraso por Estado e Estado Civil\n",
    "\n",
    "# fig = px.sunburst(df, \n",
    "#                 path=[\"Estado_Civil\", \"UF_Cliente\"], \n",
    "#                 values=\"QT_Parcelas_Atraso\",  # Replace with the actual column name for the value\n",
    "#                 title=\"Quantidade de Parcelas em Atraso por Estado e Estado Civil\",\n",
    "#                 labels={\"Estado_Civil\": \"Estado Civil\", \"UF_Cliente\": \"UF Cliente\"},\n",
    "#                 width=1000,\n",
    "#                 height=800,\n",
    "#                 template=\"plotly_dark\")  \n",
    "\n",
    "# fig.show()\n",
    "# fig.write_html(\"html/EstadoCivilAtraso.html\", full_html=False, include_plotlyjs='cdn')"
   ]
  },
  {
   "cell_type": "code",
   "execution_count": 714,
   "metadata": {},
   "outputs": [],
   "source": [
    "#grafico sobre as faixas de prazo de emprestimo\n",
    "\n",
    "# df_count = df[\"Faixa_Prazo_Emprestimo\"].value_counts().reset_index()\n",
    "# df_count.columns = [\"Faixa_Prazo_Emprestimo\", \"Count\"]\n",
    "\n",
    "# #ordenando os dados\n",
    "# df_count = df_count.sort_values(by=\"Count\", ascending=False)\n",
    "\n",
    "# fig = px.bar(df_count, x=\"Faixa_Prazo_Emprestimo\", y=\"Count\", color=\"Faixa_Prazo_Emprestimo\", title=\"Faixas de Prazo de Empréstimo\", template=\"plotly_dark\")\n",
    "# fig.update_traces(dict(marker_line_width=0))\n",
    "# fig.show()\n",
    "# fig.write_html(\"html/PrazoEmprestimo.html\", full_html=False, include_plotlyjs='cdn')"
   ]
  },
  {
   "cell_type": "code",
   "execution_count": 715,
   "metadata": {},
   "outputs": [],
   "source": [
    "#grafico sobre as faixas de prazo restante\n",
    "\n",
    "# df_count = df[\"Faixa_Prazo_Restante\"].value_counts().reset_index()\n",
    "# df_count.columns = [\"Faixa_Prazo_Restante\", \"Count\"]\n",
    "\n",
    "# #ordenando os dados\n",
    "# df_count = df_count.sort_values(by=\"Count\", ascending=False)\n",
    "\n",
    "# fig = px.bar(df_count, x=\"Faixa_Prazo_Restante\", y=\"Count\", color=\"Faixa_Prazo_Restante\", title=\"Faixas de Prazo Restante\", text_auto=True,template=\"plotly_dark\")\n",
    "# fig.update_traces(dict(marker_line_width=0))\n",
    "# fig.show()\n",
    "# fig.write_html(\"html/PrazoRestante.html\", full_html=False, include_plotlyjs='cdn')"
   ]
  },
  {
   "cell_type": "code",
   "execution_count": 716,
   "metadata": {},
   "outputs": [],
   "source": [
    "#grafico sobre as faixas etaria\n",
    "\n",
    "# df_count = df[\"Faixa_Etaria\"].value_counts().reset_index()\n",
    "# df_count.columns = [\"Faixa_Etaria\", \"Count\"]\n",
    "\n",
    "# #ordenando os dados\n",
    "# df_count = df_count.sort_values(by=\"Count\", ascending=False)\n",
    "\n",
    "# fig = px.bar(df_count, x=\"Faixa_Etaria\", y=\"Count\", color=\"Faixa_Etaria\", title=\"Faixas Etária\", text_auto=True, template=\"plotly_dark\")\n",
    "# fig.update_traces(dict(marker_line_width=0))\n",
    "# fig.show()\n",
    "# fig.write_html(\"html/FaixaEtaria.html\", full_html=False, include_plotlyjs='cdn')"
   ]
  },
  {
   "cell_type": "markdown",
   "metadata": {},
   "source": [
    "## Novo Tratamento dos dados"
   ]
  },
  {
   "cell_type": "code",
   "execution_count": 717,
   "metadata": {},
   "outputs": [
    {
     "data": {
      "text/plain": [
       "Index(['Contrato', 'Idade', 'Sexo', 'Valor_Renda', 'UF_Cliente', 'Perc_Juros',\n",
       "       'Prazo_Emprestimo', 'Data_Contratacao', 'Prazo_Restante',\n",
       "       'VL_Emprestimo', 'VL_Emprestimo_ComJuros', 'QT_Total_Parcelas_Pagas',\n",
       "       'QT_Total_Parcelas_Pagas_EmDia', 'QT_Total_Parcelas_Pagas_EmAtraso',\n",
       "       'Qt_Renegociacao', 'Estado_Civil', 'Escolaridade', 'Possui_Patrimonio',\n",
       "       'VL_Patrimonio', 'QT_Parcelas_Atraso', 'QT_Dias_Atraso',\n",
       "       'Saldo_Devedor', 'Total_Pago', 'Possivel_Fraude', 'Faixa_Etaria',\n",
       "       'Faixa_Salarial', 'Faixa_Dias_Atraso', 'Faixa_Total_Pago',\n",
       "       'Faixa_Saldo_Devedor', 'Faixa_Prazo_Emprestimo', 'Faixa_Prazo_Restante',\n",
       "       'Regiao_UF_Cliente'],\n",
       "      dtype='object')"
      ]
     },
     "execution_count": 717,
     "metadata": {},
     "output_type": "execute_result"
    }
   ],
   "source": [
    "df.columns"
   ]
  },
  {
   "cell_type": "code",
   "execution_count": 718,
   "metadata": {},
   "outputs": [],
   "source": [
    "#Excluindo colunas que nao farao parte do nosso modelo/analise\n",
    "\n",
    "#Contrato -> identificacao do cliente, nao tem relevancia aqui\n",
    "#Iade -> Substituido por Faixa Etaria\n",
    "#Valor Renda, Prazo Emprestimo, Dias em Atraso, Prazo Restante -> Substituido por faixas criadas\n",
    "#Data Contratacao -> Nao é uma Time Series, nao usaremos data aqui\n",
    "#Valor Patrimonio -> Dados incompletos\n",
    "#Possui Patrimonio -> Dados incompletos\n",
    "#Escolaridade -> Muitos dados com \"Nenhum\"\n",
    "\n",
    "\n",
    "colunas = [\"Sexo\", \"Regiao_UF_Cliente\", \"Perc_Juros\", \"VL_Emprestimo\", \"VL_Emprestimo_ComJuros\", \"QT_Total_Parcelas_Pagas\", \"QT_Total_Parcelas_Pagas_EmDia\", \n",
    "            \"QT_Total_Parcelas_Pagas_EmAtraso\", \"Qt_Renegociacao\", \"Estado_Civil\", \"QT_Parcelas_Atraso\", \"Faixa_Etaria\", \n",
    "            \"Faixa_Salarial\", \"Faixa_Dias_Atraso\", \"Faixa_Total_Pago\", \"Faixa_Saldo_Devedor\", \"Faixa_Prazo_Emprestimo\", \"Faixa_Prazo_Restante\", \"Possivel_Fraude\"]\n",
    "\n",
    "df_tratado = pd.DataFrame(df, columns=colunas)"
   ]
  },
  {
   "cell_type": "code",
   "execution_count": 719,
   "metadata": {},
   "outputs": [
    {
     "data": {
      "text/plain": [
       "(80143, 19)"
      ]
     },
     "execution_count": 719,
     "metadata": {},
     "output_type": "execute_result"
    }
   ],
   "source": [
    "df_tratado.shape"
   ]
  },
  {
   "cell_type": "code",
   "execution_count": 720,
   "metadata": {},
   "outputs": [
    {
     "name": "stdout",
     "output_type": "stream",
     "text": [
      "<class 'pandas.core.frame.DataFrame'>\n",
      "RangeIndex: 80143 entries, 0 to 80142\n",
      "Data columns (total 19 columns):\n",
      " #   Column                            Non-Null Count  Dtype   \n",
      "---  ------                            --------------  -----   \n",
      " 0   Sexo                              80143 non-null  category\n",
      " 1   Regiao_UF_Cliente                 80143 non-null  object  \n",
      " 2   Perc_Juros                        80143 non-null  float32 \n",
      " 3   VL_Emprestimo                     80143 non-null  float32 \n",
      " 4   VL_Emprestimo_ComJuros            80143 non-null  float32 \n",
      " 5   QT_Total_Parcelas_Pagas           80143 non-null  int8    \n",
      " 6   QT_Total_Parcelas_Pagas_EmDia     80143 non-null  int8    \n",
      " 7   QT_Total_Parcelas_Pagas_EmAtraso  80143 non-null  int8    \n",
      " 8   Qt_Renegociacao                   80143 non-null  int8    \n",
      " 9   Estado_Civil                      80143 non-null  category\n",
      " 10  QT_Parcelas_Atraso                80143 non-null  int8    \n",
      " 11  Faixa_Etaria                      80143 non-null  category\n",
      " 12  Faixa_Salarial                    80143 non-null  category\n",
      " 13  Faixa_Dias_Atraso                 80143 non-null  category\n",
      " 14  Faixa_Total_Pago                  80143 non-null  category\n",
      " 15  Faixa_Saldo_Devedor               80143 non-null  category\n",
      " 16  Faixa_Prazo_Emprestimo            80143 non-null  category\n",
      " 17  Faixa_Prazo_Restante              80143 non-null  category\n",
      " 18  Possivel_Fraude                   80143 non-null  category\n",
      "dtypes: category(10), float32(3), int8(5), object(1)\n",
      "memory usage: 2.7+ MB\n"
     ]
    }
   ],
   "source": [
    "df_tratado.info(verbose=True)"
   ]
  },
  {
   "cell_type": "code",
   "execution_count": 721,
   "metadata": {},
   "outputs": [
    {
     "data": {
      "text/plain": [
       "Sexo                                0\n",
       "Regiao_UF_Cliente                   0\n",
       "Perc_Juros                          0\n",
       "VL_Emprestimo                       0\n",
       "VL_Emprestimo_ComJuros              0\n",
       "QT_Total_Parcelas_Pagas             0\n",
       "QT_Total_Parcelas_Pagas_EmDia       0\n",
       "QT_Total_Parcelas_Pagas_EmAtraso    0\n",
       "Qt_Renegociacao                     0\n",
       "Estado_Civil                        0\n",
       "QT_Parcelas_Atraso                  0\n",
       "Faixa_Etaria                        0\n",
       "Faixa_Salarial                      0\n",
       "Faixa_Dias_Atraso                   0\n",
       "Faixa_Total_Pago                    0\n",
       "Faixa_Saldo_Devedor                 0\n",
       "Faixa_Prazo_Emprestimo              0\n",
       "Faixa_Prazo_Restante                0\n",
       "Possivel_Fraude                     0\n",
       "dtype: int64"
      ]
     },
     "execution_count": 721,
     "metadata": {},
     "output_type": "execute_result"
    }
   ],
   "source": [
    "#verificando se tem valores ausentes\n",
    "df_tratado.isnull().sum()"
   ]
  },
  {
   "cell_type": "markdown",
   "metadata": {},
   "source": [
    "## Análise Exploratória em Variáveis Categóricas \n",
    "\n",
    "#### Vamos observar as variáves categóricas e como elas se relacionam com a Variável Alvo (Possivel_Fraude)"
   ]
  },
  {
   "cell_type": "code",
   "execution_count": 722,
   "metadata": {},
   "outputs": [
    {
     "data": {
      "text/html": [
       "<div>\n",
       "<style scoped>\n",
       "    .dataframe tbody tr th:only-of-type {\n",
       "        vertical-align: middle;\n",
       "    }\n",
       "\n",
       "    .dataframe tbody tr th {\n",
       "        vertical-align: top;\n",
       "    }\n",
       "\n",
       "    .dataframe thead th {\n",
       "        text-align: right;\n",
       "    }\n",
       "</style>\n",
       "<table border=\"1\" class=\"dataframe\">\n",
       "  <thead>\n",
       "    <tr style=\"text-align: right;\">\n",
       "      <th></th>\n",
       "      <th>Perc_Juros</th>\n",
       "      <th>VL_Emprestimo</th>\n",
       "      <th>VL_Emprestimo_ComJuros</th>\n",
       "      <th>QT_Total_Parcelas_Pagas</th>\n",
       "      <th>QT_Total_Parcelas_Pagas_EmDia</th>\n",
       "      <th>QT_Total_Parcelas_Pagas_EmAtraso</th>\n",
       "      <th>Qt_Renegociacao</th>\n",
       "      <th>QT_Parcelas_Atraso</th>\n",
       "    </tr>\n",
       "  </thead>\n",
       "  <tbody>\n",
       "    <tr>\n",
       "      <th>count</th>\n",
       "      <td>80143.00</td>\n",
       "      <td>80143.00</td>\n",
       "      <td>80143.00</td>\n",
       "      <td>80143.00</td>\n",
       "      <td>80143.00</td>\n",
       "      <td>80143.00</td>\n",
       "      <td>80143.00</td>\n",
       "      <td>80143.00</td>\n",
       "    </tr>\n",
       "    <tr>\n",
       "      <th>mean</th>\n",
       "      <td>19.49</td>\n",
       "      <td>72847.77</td>\n",
       "      <td>83774.95</td>\n",
       "      <td>10.71</td>\n",
       "      <td>5.24</td>\n",
       "      <td>2.34</td>\n",
       "      <td>1.30</td>\n",
       "      <td>10.65</td>\n",
       "    </tr>\n",
       "    <tr>\n",
       "      <th>std</th>\n",
       "      <td>3.56</td>\n",
       "      <td>87407.94</td>\n",
       "      <td>100519.12</td>\n",
       "      <td>9.31</td>\n",
       "      <td>6.21</td>\n",
       "      <td>3.97</td>\n",
       "      <td>1.27</td>\n",
       "      <td>10.43</td>\n",
       "    </tr>\n",
       "    <tr>\n",
       "      <th>min</th>\n",
       "      <td>4.49</td>\n",
       "      <td>3000.00</td>\n",
       "      <td>3450.00</td>\n",
       "      <td>0.00</td>\n",
       "      <td>0.00</td>\n",
       "      <td>0.00</td>\n",
       "      <td>0.00</td>\n",
       "      <td>0.00</td>\n",
       "    </tr>\n",
       "    <tr>\n",
       "      <th>25%</th>\n",
       "      <td>18.00</td>\n",
       "      <td>15000.00</td>\n",
       "      <td>17250.00</td>\n",
       "      <td>2.00</td>\n",
       "      <td>1.00</td>\n",
       "      <td>0.00</td>\n",
       "      <td>0.00</td>\n",
       "      <td>0.00</td>\n",
       "    </tr>\n",
       "    <tr>\n",
       "      <th>50%</th>\n",
       "      <td>20.00</td>\n",
       "      <td>40000.00</td>\n",
       "      <td>46000.00</td>\n",
       "      <td>8.00</td>\n",
       "      <td>2.00</td>\n",
       "      <td>1.00</td>\n",
       "      <td>1.00</td>\n",
       "      <td>9.00</td>\n",
       "    </tr>\n",
       "    <tr>\n",
       "      <th>75%</th>\n",
       "      <td>21.00</td>\n",
       "      <td>100000.00</td>\n",
       "      <td>115000.00</td>\n",
       "      <td>18.00</td>\n",
       "      <td>7.00</td>\n",
       "      <td>3.00</td>\n",
       "      <td>2.00</td>\n",
       "      <td>20.00</td>\n",
       "    </tr>\n",
       "    <tr>\n",
       "      <th>max</th>\n",
       "      <td>28.00</td>\n",
       "      <td>500000.00</td>\n",
       "      <td>575000.00</td>\n",
       "      <td>66.00</td>\n",
       "      <td>66.00</td>\n",
       "      <td>31.00</td>\n",
       "      <td>38.00</td>\n",
       "      <td>34.00</td>\n",
       "    </tr>\n",
       "  </tbody>\n",
       "</table>\n",
       "</div>"
      ],
      "text/plain": [
       "       Perc_Juros  VL_Emprestimo  VL_Emprestimo_ComJuros  \\\n",
       "count    80143.00       80143.00                80143.00   \n",
       "mean        19.49       72847.77                83774.95   \n",
       "std          3.56       87407.94               100519.12   \n",
       "min          4.49        3000.00                 3450.00   \n",
       "25%         18.00       15000.00                17250.00   \n",
       "50%         20.00       40000.00                46000.00   \n",
       "75%         21.00      100000.00               115000.00   \n",
       "max         28.00      500000.00               575000.00   \n",
       "\n",
       "       QT_Total_Parcelas_Pagas  QT_Total_Parcelas_Pagas_EmDia  \\\n",
       "count                 80143.00                       80143.00   \n",
       "mean                     10.71                           5.24   \n",
       "std                       9.31                           6.21   \n",
       "min                       0.00                           0.00   \n",
       "25%                       2.00                           1.00   \n",
       "50%                       8.00                           2.00   \n",
       "75%                      18.00                           7.00   \n",
       "max                      66.00                          66.00   \n",
       "\n",
       "       QT_Total_Parcelas_Pagas_EmAtraso  Qt_Renegociacao  QT_Parcelas_Atraso  \n",
       "count                          80143.00         80143.00            80143.00  \n",
       "mean                               2.34             1.30               10.65  \n",
       "std                                3.97             1.27               10.43  \n",
       "min                                0.00             0.00                0.00  \n",
       "25%                                0.00             0.00                0.00  \n",
       "50%                                1.00             1.00                9.00  \n",
       "75%                                3.00             2.00               20.00  \n",
       "max                               31.00            38.00               34.00  "
      ]
     },
     "execution_count": 722,
     "metadata": {},
     "output_type": "execute_result"
    }
   ],
   "source": [
    "df_tratado.describe()"
   ]
  },
  {
   "cell_type": "code",
   "execution_count": 723,
   "metadata": {},
   "outputs": [],
   "source": [
    "#mapeamento das cores\n",
    "color_map = {\n",
    "    \"Sim\": \"#EF553B\",\n",
    "    \"Nao\": \"#636EFA\"\n",
    "}"
   ]
  },
  {
   "cell_type": "markdown",
   "metadata": {},
   "source": [
    "Observamos que existe um tendência de quando o Total Pago for maior do que 60K, possivelmente não existe fraude.\n",
    "\n",
    "Agora, vamos fazer uma série de histogramas e comparar com a variável Possivel_Fraude "
   ]
  },
  {
   "cell_type": "code",
   "execution_count": 724,
   "metadata": {},
   "outputs": [],
   "source": [
    "# fig = px.histogram(df_tratado, x=\"Sexo\", color=\"Possivel_Fraude\", barmode=\"group\", text_auto=True, color_discrete_map=color_map, template=\"plotly_dark\")\n",
    "# fig.show()\n",
    "# fig.write_html(\"html/SexoFraude.html\", full_html=False, include_plotlyjs='cdn')"
   ]
  },
  {
   "cell_type": "code",
   "execution_count": 725,
   "metadata": {},
   "outputs": [],
   "source": [
    "# df_tratado = df_tratado.sort_values(by=\"Faixa_Etaria\", ascending=True)\n",
    "\n",
    "# fig = px.histogram(df_tratado, x=\"Faixa_Etaria\", color=\"Possivel_Fraude\", barmode=\"group\", text_auto=True, color_discrete_map=color_map, template=\"plotly_dark\")\n",
    "# fig.show()\n",
    "# fig.write_html(\"html/Faixa_EtariaFraude.html\", full_html=False, include_plotlyjs='cdn')"
   ]
  },
  {
   "cell_type": "code",
   "execution_count": 726,
   "metadata": {},
   "outputs": [],
   "source": [
    "# fig = px.histogram(df_tratado, x=\"Regiao_UF_Cliente\", color=\"Possivel_Fraude\", barmode=\"group\", color_discrete_map=color_map, template=\"plotly_dark\")\n",
    "# fig.show()\n",
    "# fig.write_html(\"html/RegiaoFraude.html\", full_html=False, include_plotlyjs='cdn')"
   ]
  },
  {
   "cell_type": "code",
   "execution_count": 727,
   "metadata": {},
   "outputs": [],
   "source": [
    "# df_tratado = df_tratado.sort_values(by=\"Faixa_Salarial\", ascending=True)\n",
    "\n",
    "# fig = px.histogram(df_tratado, x=\"Faixa_Salarial\", color=\"Possivel_Fraude\", barmode=\"group\", text_auto=True, color_discrete_map=color_map, template=\"plotly_dark\")\n",
    "# fig.show()\n",
    "# fig.write_html(\"html/SalarioFraude.html\", full_html=False, include_plotlyjs='cdn')"
   ]
  },
  {
   "cell_type": "code",
   "execution_count": 728,
   "metadata": {},
   "outputs": [],
   "source": [
    "# df_tratado = df_tratado.sort_values(by=\"QT_Total_Parcelas_Pagas\", ascending=True)\n",
    "\n",
    "# fig = px.histogram(df_tratado, x=\"QT_Total_Parcelas_Pagas\", color=\"Possivel_Fraude\", barmode=\"group\", color_discrete_map=color_map, template=\"plotly_dark\")\n",
    "# fig.show()\n",
    "# fig.write_html(\"html/ParcelasPagasFraude.html\", full_html=False, include_plotlyjs='cdn')"
   ]
  },
  {
   "cell_type": "code",
   "execution_count": 729,
   "metadata": {},
   "outputs": [],
   "source": [
    "# df_tratado = df_tratado.sort_values(by=\"QT_Total_Parcelas_Pagas_EmDia\", ascending=True)\n",
    "\n",
    "# fig = px.histogram(df_tratado, x=\"QT_Total_Parcelas_Pagas_EmDia\", color=\"Possivel_Fraude\", barmode=\"group\", color_discrete_map=color_map, template=\"plotly_dark\")\n",
    "# fig.show()\n",
    "# fig.write_html(\"html/PagasEmDiaFraude.html\", full_html=False, include_plotlyjs='cdn')"
   ]
  },
  {
   "cell_type": "code",
   "execution_count": 730,
   "metadata": {},
   "outputs": [],
   "source": [
    "# df_tratado = df_tratado.sort_values(by=\"QT_Total_Parcelas_Pagas_EmAtraso\", ascending=True)\n",
    "\n",
    "# fig = px.histogram(df_tratado, x=\"QT_Total_Parcelas_Pagas_EmAtraso\", color=\"Possivel_Fraude\", barmode=\"group\", color_discrete_map=color_map, template=\"plotly_dark\")\n",
    "# fig.show()\n",
    "# fig.write_html(\"html/PagasEmAtrasoFraude.html\", full_html=False, include_plotlyjs='cdn')"
   ]
  },
  {
   "cell_type": "code",
   "execution_count": 731,
   "metadata": {},
   "outputs": [],
   "source": [
    "# df_tratado = df_tratado.sort_values(by=\"QT_Parcelas_Atraso\", ascending=True)\n",
    "\n",
    "# fig = px.histogram(df_tratado, x=\"QT_Parcelas_Atraso\", color=\"Possivel_Fraude\", barmode=\"group\", color_discrete_map=color_map, template=\"plotly_dark\")\n",
    "# fig.show()\n",
    "# fig.write_html(\"html/ParcelasAtrasoFraude.html\", full_html=False, include_plotlyjs='cdn')"
   ]
  },
  {
   "cell_type": "code",
   "execution_count": 732,
   "metadata": {},
   "outputs": [],
   "source": [
    "# df_tratado = df_tratado.sort_values(by=\"Faixa_Total_Pago\", ascending=True)\n",
    "\n",
    "# fig = px.histogram(df_tratado, x=\"Faixa_Total_Pago\", color=\"Possivel_Fraude\", barmode=\"group\", color_discrete_map=color_map, template=\"plotly_dark\")\n",
    "# fig.show()\n",
    "# fig.write_html(\"html/TotalPagoFraude.html\", full_html=False, include_plotlyjs='cdn')"
   ]
  },
  {
   "cell_type": "code",
   "execution_count": 733,
   "metadata": {},
   "outputs": [],
   "source": [
    "# df_tratado = df_tratado.sort_values(by=\"Qt_Renegociacao\", ascending=True)\n",
    "\n",
    "# df_filtro = df_tratado[df_tratado[\"Qt_Renegociacao\"] < 15]\n",
    "\n",
    "# fig = px.histogram(df_filtro, x=\"Qt_Renegociacao\", color=\"Possivel_Fraude\", barmode=\"group\", text_auto=True, color_discrete_map=color_map, template=\"plotly_dark\")\n",
    "# fig.show()\n",
    "# fig.write_html(\"html/RenegociacaoFraude.html\", full_html=False, include_plotlyjs='cdn')"
   ]
  },
  {
   "cell_type": "code",
   "execution_count": 734,
   "metadata": {},
   "outputs": [],
   "source": [
    "# df_tratado = df_tratado.sort_values(by=\"Faixa_Prazo_Restante\", ascending=True)\n",
    "\n",
    "# fig = px.histogram(df_tratado, x=\"Faixa_Prazo_Restante\", color=\"Possivel_Fraude\", barmode=\"group\", text_auto=True, color_discrete_map=color_map, template=\"plotly_dark\")\n",
    "# fig.show()\n",
    "# fig.write_html(\"html/PrazoFraude.html\", full_html=False, include_plotlyjs='cdn')"
   ]
  },
  {
   "cell_type": "code",
   "execution_count": 735,
   "metadata": {},
   "outputs": [],
   "source": [
    "# df_tratado = df_tratado.sort_values(by=\"Faixa_Dias_Atraso\", ascending=True)\n",
    "\n",
    "# fig = px.histogram(df_tratado, x=\"Faixa_Dias_Atraso\", color=\"Possivel_Fraude\", barmode=\"group\", text_auto=True, color_discrete_map=color_map, template=\"plotly_dark\")\n",
    "# fig.show()\n",
    "# fig.write_html(\"html/DiasAtrasoFraude.html\", full_html=False, include_plotlyjs='cdn')"
   ]
  },
  {
   "cell_type": "code",
   "execution_count": 736,
   "metadata": {},
   "outputs": [],
   "source": [
    "# df_tratado = df_tratado.sort_values(by=\"Faixa_Saldo_Devedor\", ascending=True)\n",
    "\n",
    "# fig = px.histogram(df_tratado, x=\"Faixa_Saldo_Devedor\", color=\"Possivel_Fraude\", barmode=\"group\", text_auto=True, color_discrete_map=color_map, template=\"plotly_dark\")\n",
    "# fig.show()\n",
    "# fig.write_html(\"html/DevedorFraude.html\", full_html=False, include_plotlyjs='cdn')"
   ]
  },
  {
   "cell_type": "code",
   "execution_count": 737,
   "metadata": {},
   "outputs": [],
   "source": [
    "# df_tratado = df_tratado.sort_values(by=\"Faixa_Prazo_Emprestimo\", ascending=True)\n",
    "\n",
    "# fig = px.histogram(df_tratado, x=\"Faixa_Prazo_Emprestimo\", color=\"Possivel_Fraude\", barmode=\"group\", text_auto=True, color_discrete_map=color_map, template=\"plotly_dark\")\n",
    "# fig.show()\n",
    "# fig.write_html(\"html/EmprestimoFraude.html\", full_html=False, include_plotlyjs='cdn')"
   ]
  },
  {
   "cell_type": "code",
   "execution_count": 738,
   "metadata": {},
   "outputs": [],
   "source": [
    "# df_tratado = df_tratado.sort_values(by=\"Estado_Civil\", ascending=True)\n",
    "\n",
    "# fig = px.histogram(df_tratado, x=\"Estado_Civil\", color=\"Possivel_Fraude\", barmode=\"group\", text_auto=True, color_discrete_map=color_map, template=\"plotly_dark\")\n",
    "# fig.show()\n",
    "# fig.write_html(\"html/EstadoCivilFraude.html\", full_html=False, include_plotlyjs='cdn')"
   ]
  },
  {
   "cell_type": "markdown",
   "metadata": {},
   "source": [
    "## Análise Exploratória em Variáveis Numéricas, OneHotEnconding e novo Tratamento dos Dados\n",
    "\n",
    "#### Verificar média, mediana, moda, desvio padrão, correlação, outliers, distribuição dos dados\n",
    "#### Preparar os dados para os modelos de Machine Learning"
   ]
  },
  {
   "cell_type": "code",
   "execution_count": 739,
   "metadata": {},
   "outputs": [
    {
     "name": "stdout",
     "output_type": "stream",
     "text": [
      "<class 'pandas.core.frame.DataFrame'>\n",
      "RangeIndex: 80143 entries, 0 to 80142\n",
      "Data columns (total 8 columns):\n",
      " #   Column                            Non-Null Count  Dtype  \n",
      "---  ------                            --------------  -----  \n",
      " 0   Perc_Juros                        80143 non-null  float32\n",
      " 1   VL_Emprestimo                     80143 non-null  float32\n",
      " 2   VL_Emprestimo_ComJuros            80143 non-null  float32\n",
      " 3   QT_Total_Parcelas_Pagas           80143 non-null  int8   \n",
      " 4   QT_Total_Parcelas_Pagas_EmDia     80143 non-null  int8   \n",
      " 5   QT_Total_Parcelas_Pagas_EmAtraso  80143 non-null  int8   \n",
      " 6   Qt_Renegociacao                   80143 non-null  int8   \n",
      " 7   QT_Parcelas_Atraso                80143 non-null  int8   \n",
      "dtypes: float32(3), int8(5)\n",
      "memory usage: 1.3 MB\n"
     ]
    }
   ],
   "source": [
    "#construir um df apenas para as variaveis numericas\n",
    "df_numerico = df_tratado.select_dtypes(include=['number'])\n",
    "df_numerico.info()"
   ]
  },
  {
   "cell_type": "code",
   "execution_count": 794,
   "metadata": {},
   "outputs": [],
   "source": [
    "#verificando a correlacao das variaveis numericas\n",
    "# fig = px.imshow(df_numerico.corr(), aspect=\"auto\", text_auto=True, template=\"plotly_dark\")\n",
    "# fig.show()\n",
    "# fig.write_html(\"html/Correlacao.html\", full_html=False, include_plotlyjs='cdn')"
   ]
  },
  {
   "cell_type": "code",
   "execution_count": 741,
   "metadata": {},
   "outputs": [
    {
     "data": {
      "text/html": [
       "<div>\n",
       "<style scoped>\n",
       "    .dataframe tbody tr th:only-of-type {\n",
       "        vertical-align: middle;\n",
       "    }\n",
       "\n",
       "    .dataframe tbody tr th {\n",
       "        vertical-align: top;\n",
       "    }\n",
       "\n",
       "    .dataframe thead th {\n",
       "        text-align: right;\n",
       "    }\n",
       "</style>\n",
       "<table border=\"1\" class=\"dataframe\">\n",
       "  <thead>\n",
       "    <tr style=\"text-align: right;\">\n",
       "      <th></th>\n",
       "      <th>VL_Emprestimo</th>\n",
       "      <th>VL_Emprestimo_ComJuros</th>\n",
       "    </tr>\n",
       "  </thead>\n",
       "  <tbody>\n",
       "    <tr>\n",
       "      <th>77265</th>\n",
       "      <td>200000.00</td>\n",
       "      <td>230000.00</td>\n",
       "    </tr>\n",
       "    <tr>\n",
       "      <th>51989</th>\n",
       "      <td>75000.00</td>\n",
       "      <td>86250.00</td>\n",
       "    </tr>\n",
       "    <tr>\n",
       "      <th>71211</th>\n",
       "      <td>70000.00</td>\n",
       "      <td>80500.00</td>\n",
       "    </tr>\n",
       "    <tr>\n",
       "      <th>3516</th>\n",
       "      <td>320000.00</td>\n",
       "      <td>368000.00</td>\n",
       "    </tr>\n",
       "    <tr>\n",
       "      <th>5975</th>\n",
       "      <td>250000.00</td>\n",
       "      <td>287500.00</td>\n",
       "    </tr>\n",
       "  </tbody>\n",
       "</table>\n",
       "</div>"
      ],
      "text/plain": [
       "       VL_Emprestimo  VL_Emprestimo_ComJuros\n",
       "77265      200000.00               230000.00\n",
       "51989       75000.00                86250.00\n",
       "71211       70000.00                80500.00\n",
       "3516       320000.00               368000.00\n",
       "5975       250000.00               287500.00"
      ]
     },
     "execution_count": 741,
     "metadata": {},
     "output_type": "execute_result"
    }
   ],
   "source": [
    "df_numerico[[\"VL_Emprestimo\", \"VL_Emprestimo_ComJuros\"]].sample(5)"
   ]
  },
  {
   "cell_type": "markdown",
   "metadata": {},
   "source": [
    "Observamos que VL_Emprestimo e VL_Emprestimo_ComJuros possuem alta cardinalidade positiva entre si, e que QT_Parcelas_Atraso e QT_Total_Parcelas_Pagas possuem uma alta cardinalidade negativa entre si, o que faz sentido já que essas informações dependem das outras ou são contrárias. Isso será resolvido na etapa de padronização e normalização de dados."
   ]
  },
  {
   "cell_type": "code",
   "execution_count": 742,
   "metadata": {},
   "outputs": [],
   "source": [
    "#boxplots para verificar outliers, mediana, valores maximos, minimos e quartils\n",
    "\n",
    "#criar automaticamente os plots\n",
    "# for column in df_numerico.columns:\n",
    "#     fig = px.box(df_numerico, y=column, title=f'Boxplot para {column}')\n",
    "#     fig.update_layout(\n",
    "#     width=1200,  \n",
    "#     height=800   \n",
    "#     )\n",
    "#     fig.show()"
   ]
  },
  {
   "cell_type": "code",
   "execution_count": 743,
   "metadata": {},
   "outputs": [
    {
     "name": "stdout",
     "output_type": "stream",
     "text": [
      "<class 'pandas.core.frame.DataFrame'>\n",
      "RangeIndex: 80143 entries, 0 to 80142\n",
      "Data columns (total 10 columns):\n",
      " #   Column                  Non-Null Count  Dtype   \n",
      "---  ------                  --------------  -----   \n",
      " 0   Sexo                    80143 non-null  category\n",
      " 1   Regiao_UF_Cliente       80143 non-null  object  \n",
      " 2   Estado_Civil            80143 non-null  category\n",
      " 3   Faixa_Etaria            80143 non-null  category\n",
      " 4   Faixa_Salarial          80143 non-null  category\n",
      " 5   Faixa_Dias_Atraso       80143 non-null  category\n",
      " 6   Faixa_Total_Pago        80143 non-null  category\n",
      " 7   Faixa_Saldo_Devedor     80143 non-null  category\n",
      " 8   Faixa_Prazo_Emprestimo  80143 non-null  category\n",
      " 9   Faixa_Prazo_Restante    80143 non-null  category\n",
      "dtypes: category(9), object(1)\n",
      "memory usage: 1.3+ MB\n"
     ]
    }
   ],
   "source": [
    "#carregando as variaveis nao numericas\n",
    "\n",
    "colunas_numericas = df_tratado.select_dtypes(include=['number']).columns\n",
    "coluna_alvo = df_tratado[[\"Possivel_Fraude\"]]\n",
    "\n",
    "df_categorica = df_tratado.drop(columns=colunas_numericas).drop(columns=coluna_alvo)\n",
    "df_categorica.info()"
   ]
  },
  {
   "cell_type": "code",
   "execution_count": 744,
   "metadata": {},
   "outputs": [
    {
     "data": {
      "text/html": [
       "<div>\n",
       "<style scoped>\n",
       "    .dataframe tbody tr th:only-of-type {\n",
       "        vertical-align: middle;\n",
       "    }\n",
       "\n",
       "    .dataframe tbody tr th {\n",
       "        vertical-align: top;\n",
       "    }\n",
       "\n",
       "    .dataframe thead th {\n",
       "        text-align: right;\n",
       "    }\n",
       "</style>\n",
       "<table border=\"1\" class=\"dataframe\">\n",
       "  <thead>\n",
       "    <tr style=\"text-align: right;\">\n",
       "      <th></th>\n",
       "      <th>Faixa_Etaria</th>\n",
       "      <th>Faixa_Salarial</th>\n",
       "      <th>Faixa_Dias_Atraso</th>\n",
       "      <th>Faixa_Total_Pago</th>\n",
       "      <th>Faixa_Saldo_Devedor</th>\n",
       "      <th>Faixa_Prazo_Emprestimo</th>\n",
       "      <th>Faixa_Prazo_Restante</th>\n",
       "      <th>Sexo_F</th>\n",
       "      <th>Sexo_M</th>\n",
       "      <th>Regiao_UF_Cliente_Centro_Oeste</th>\n",
       "      <th>Regiao_UF_Cliente_Nordeste</th>\n",
       "      <th>Regiao_UF_Cliente_Norte</th>\n",
       "      <th>Regiao_UF_Cliente_Sudeste</th>\n",
       "      <th>Regiao_UF_Cliente_Sul</th>\n",
       "      <th>Estado_Civil_CASADO(A)</th>\n",
       "      <th>Estado_Civil_DIVORCIADO</th>\n",
       "      <th>Estado_Civil_OUTRO</th>\n",
       "      <th>Estado_Civil_SOLTEIRO(A)</th>\n",
       "      <th>Estado_Civil_VIÚVO(A)</th>\n",
       "      <th>Perc_Juros</th>\n",
       "      <th>VL_Emprestimo</th>\n",
       "      <th>VL_Emprestimo_ComJuros</th>\n",
       "      <th>QT_Total_Parcelas_Pagas</th>\n",
       "      <th>QT_Total_Parcelas_Pagas_EmDia</th>\n",
       "      <th>QT_Total_Parcelas_Pagas_EmAtraso</th>\n",
       "      <th>Qt_Renegociacao</th>\n",
       "      <th>QT_Parcelas_Atraso</th>\n",
       "      <th>Possivel_Fraude</th>\n",
       "    </tr>\n",
       "  </thead>\n",
       "  <tbody>\n",
       "    <tr>\n",
       "      <th>32468</th>\n",
       "      <td>1.00</td>\n",
       "      <td>2.00</td>\n",
       "      <td>12.00</td>\n",
       "      <td>2.00</td>\n",
       "      <td>8.00</td>\n",
       "      <td>1.00</td>\n",
       "      <td>1.00</td>\n",
       "      <td>0.00</td>\n",
       "      <td>1.00</td>\n",
       "      <td>0.00</td>\n",
       "      <td>1.00</td>\n",
       "      <td>0.00</td>\n",
       "      <td>0.00</td>\n",
       "      <td>0.00</td>\n",
       "      <td>0.00</td>\n",
       "      <td>0.00</td>\n",
       "      <td>0.00</td>\n",
       "      <td>1.00</td>\n",
       "      <td>0.00</td>\n",
       "      <td>21.00</td>\n",
       "      <td>15000.00</td>\n",
       "      <td>17250.00</td>\n",
       "      <td>34</td>\n",
       "      <td>31</td>\n",
       "      <td>0</td>\n",
       "      <td>0</td>\n",
       "      <td>0</td>\n",
       "      <td>Nao</td>\n",
       "    </tr>\n",
       "    <tr>\n",
       "      <th>57240</th>\n",
       "      <td>4.00</td>\n",
       "      <td>2.00</td>\n",
       "      <td>12.00</td>\n",
       "      <td>7.00</td>\n",
       "      <td>4.00</td>\n",
       "      <td>3.00</td>\n",
       "      <td>3.00</td>\n",
       "      <td>0.00</td>\n",
       "      <td>1.00</td>\n",
       "      <td>0.00</td>\n",
       "      <td>0.00</td>\n",
       "      <td>0.00</td>\n",
       "      <td>1.00</td>\n",
       "      <td>0.00</td>\n",
       "      <td>0.00</td>\n",
       "      <td>1.00</td>\n",
       "      <td>0.00</td>\n",
       "      <td>0.00</td>\n",
       "      <td>0.00</td>\n",
       "      <td>18.00</td>\n",
       "      <td>80000.00</td>\n",
       "      <td>92000.00</td>\n",
       "      <td>12</td>\n",
       "      <td>5</td>\n",
       "      <td>4</td>\n",
       "      <td>3</td>\n",
       "      <td>0</td>\n",
       "      <td>Nao</td>\n",
       "    </tr>\n",
       "    <tr>\n",
       "      <th>30361</th>\n",
       "      <td>0.00</td>\n",
       "      <td>2.00</td>\n",
       "      <td>12.00</td>\n",
       "      <td>8.00</td>\n",
       "      <td>4.00</td>\n",
       "      <td>1.00</td>\n",
       "      <td>3.00</td>\n",
       "      <td>0.00</td>\n",
       "      <td>1.00</td>\n",
       "      <td>1.00</td>\n",
       "      <td>0.00</td>\n",
       "      <td>0.00</td>\n",
       "      <td>0.00</td>\n",
       "      <td>0.00</td>\n",
       "      <td>0.00</td>\n",
       "      <td>0.00</td>\n",
       "      <td>0.00</td>\n",
       "      <td>1.00</td>\n",
       "      <td>0.00</td>\n",
       "      <td>23.00</td>\n",
       "      <td>20000.00</td>\n",
       "      <td>23000.00</td>\n",
       "      <td>12</td>\n",
       "      <td>3</td>\n",
       "      <td>3</td>\n",
       "      <td>1</td>\n",
       "      <td>0</td>\n",
       "      <td>Nao</td>\n",
       "    </tr>\n",
       "    <tr>\n",
       "      <th>75209</th>\n",
       "      <td>2.00</td>\n",
       "      <td>5.00</td>\n",
       "      <td>12.00</td>\n",
       "      <td>8.00</td>\n",
       "      <td>2.00</td>\n",
       "      <td>3.00</td>\n",
       "      <td>3.00</td>\n",
       "      <td>0.00</td>\n",
       "      <td>1.00</td>\n",
       "      <td>0.00</td>\n",
       "      <td>0.00</td>\n",
       "      <td>0.00</td>\n",
       "      <td>1.00</td>\n",
       "      <td>0.00</td>\n",
       "      <td>1.00</td>\n",
       "      <td>0.00</td>\n",
       "      <td>0.00</td>\n",
       "      <td>0.00</td>\n",
       "      <td>0.00</td>\n",
       "      <td>25.00</td>\n",
       "      <td>18000.00</td>\n",
       "      <td>20700.00</td>\n",
       "      <td>20</td>\n",
       "      <td>17</td>\n",
       "      <td>0</td>\n",
       "      <td>0</td>\n",
       "      <td>0</td>\n",
       "      <td>Nao</td>\n",
       "    </tr>\n",
       "    <tr>\n",
       "      <th>34211</th>\n",
       "      <td>1.00</td>\n",
       "      <td>2.00</td>\n",
       "      <td>12.00</td>\n",
       "      <td>8.00</td>\n",
       "      <td>4.00</td>\n",
       "      <td>3.00</td>\n",
       "      <td>3.00</td>\n",
       "      <td>1.00</td>\n",
       "      <td>0.00</td>\n",
       "      <td>0.00</td>\n",
       "      <td>0.00</td>\n",
       "      <td>0.00</td>\n",
       "      <td>1.00</td>\n",
       "      <td>0.00</td>\n",
       "      <td>0.00</td>\n",
       "      <td>0.00</td>\n",
       "      <td>0.00</td>\n",
       "      <td>1.00</td>\n",
       "      <td>0.00</td>\n",
       "      <td>23.00</td>\n",
       "      <td>25000.00</td>\n",
       "      <td>28750.00</td>\n",
       "      <td>12</td>\n",
       "      <td>11</td>\n",
       "      <td>0</td>\n",
       "      <td>0</td>\n",
       "      <td>0</td>\n",
       "      <td>Nao</td>\n",
       "    </tr>\n",
       "  </tbody>\n",
       "</table>\n",
       "</div>"
      ],
      "text/plain": [
       "       Faixa_Etaria  Faixa_Salarial  Faixa_Dias_Atraso  Faixa_Total_Pago  \\\n",
       "32468          1.00            2.00              12.00              2.00   \n",
       "57240          4.00            2.00              12.00              7.00   \n",
       "30361          0.00            2.00              12.00              8.00   \n",
       "75209          2.00            5.00              12.00              8.00   \n",
       "34211          1.00            2.00              12.00              8.00   \n",
       "\n",
       "       Faixa_Saldo_Devedor  Faixa_Prazo_Emprestimo  Faixa_Prazo_Restante  \\\n",
       "32468                 8.00                    1.00                  1.00   \n",
       "57240                 4.00                    3.00                  3.00   \n",
       "30361                 4.00                    1.00                  3.00   \n",
       "75209                 2.00                    3.00                  3.00   \n",
       "34211                 4.00                    3.00                  3.00   \n",
       "\n",
       "       Sexo_F  Sexo_M  Regiao_UF_Cliente_Centro_Oeste  \\\n",
       "32468    0.00    1.00                            0.00   \n",
       "57240    0.00    1.00                            0.00   \n",
       "30361    0.00    1.00                            1.00   \n",
       "75209    0.00    1.00                            0.00   \n",
       "34211    1.00    0.00                            0.00   \n",
       "\n",
       "       Regiao_UF_Cliente_Nordeste  Regiao_UF_Cliente_Norte  \\\n",
       "32468                        1.00                     0.00   \n",
       "57240                        0.00                     0.00   \n",
       "30361                        0.00                     0.00   \n",
       "75209                        0.00                     0.00   \n",
       "34211                        0.00                     0.00   \n",
       "\n",
       "       Regiao_UF_Cliente_Sudeste  Regiao_UF_Cliente_Sul  \\\n",
       "32468                       0.00                   0.00   \n",
       "57240                       1.00                   0.00   \n",
       "30361                       0.00                   0.00   \n",
       "75209                       1.00                   0.00   \n",
       "34211                       1.00                   0.00   \n",
       "\n",
       "       Estado_Civil_CASADO(A)  Estado_Civil_DIVORCIADO  Estado_Civil_OUTRO  \\\n",
       "32468                    0.00                     0.00                0.00   \n",
       "57240                    0.00                     1.00                0.00   \n",
       "30361                    0.00                     0.00                0.00   \n",
       "75209                    1.00                     0.00                0.00   \n",
       "34211                    0.00                     0.00                0.00   \n",
       "\n",
       "       Estado_Civil_SOLTEIRO(A)  Estado_Civil_VIÚVO(A)  Perc_Juros  \\\n",
       "32468                      1.00                   0.00       21.00   \n",
       "57240                      0.00                   0.00       18.00   \n",
       "30361                      1.00                   0.00       23.00   \n",
       "75209                      0.00                   0.00       25.00   \n",
       "34211                      1.00                   0.00       23.00   \n",
       "\n",
       "       VL_Emprestimo  VL_Emprestimo_ComJuros  QT_Total_Parcelas_Pagas  \\\n",
       "32468       15000.00                17250.00                       34   \n",
       "57240       80000.00                92000.00                       12   \n",
       "30361       20000.00                23000.00                       12   \n",
       "75209       18000.00                20700.00                       20   \n",
       "34211       25000.00                28750.00                       12   \n",
       "\n",
       "       QT_Total_Parcelas_Pagas_EmDia  QT_Total_Parcelas_Pagas_EmAtraso  \\\n",
       "32468                             31                                 0   \n",
       "57240                              5                                 4   \n",
       "30361                              3                                 3   \n",
       "75209                             17                                 0   \n",
       "34211                             11                                 0   \n",
       "\n",
       "       Qt_Renegociacao  QT_Parcelas_Atraso Possivel_Fraude  \n",
       "32468                0                   0             Nao  \n",
       "57240                3                   0             Nao  \n",
       "30361                1                   0             Nao  \n",
       "75209                0                   0             Nao  \n",
       "34211                0                   0             Nao  "
      ]
     },
     "execution_count": 744,
     "metadata": {},
     "output_type": "execute_result"
    }
   ],
   "source": [
    "#OrdinalEnconding, vamos separar os dados para usar o Ordinal Encoding para colunas com uma ordem especifica (Faixa_Etaria),\n",
    "#e OneHotEncoding para aquelas que nao tem ordem(Sexo)\n",
    "\n",
    "ore = OrdinalEncoder()\n",
    "ohe = OneHotEncoder(sparse_output=False)\n",
    "\n",
    "colunas_ordinal_encoding = [\"Faixa_Etaria\", \"Faixa_Salarial\", \"Faixa_Dias_Atraso\", \"Faixa_Total_Pago\", \"Faixa_Saldo_Devedor\", \"Faixa_Prazo_Emprestimo\", \"Faixa_Prazo_Restante\"]\n",
    "colunas_onehot_encoding = [\"Sexo\", \"Regiao_UF_Cliente\", \"Estado_Civil\"]\n",
    "\n",
    "ore_ft = ore.fit_transform(df_categorica[colunas_ordinal_encoding])\n",
    "ore_df = pd.DataFrame(ore_ft, columns=colunas_ordinal_encoding)\n",
    "\n",
    "ohe_ft = ohe.fit_transform(df_categorica[colunas_onehot_encoding])\n",
    "ohe_df = pd.DataFrame(ohe_ft, columns=ohe.get_feature_names_out(colunas_onehot_encoding))\n",
    "\n",
    "df_categorico_encoded = pd.concat([ore_df, ohe_df], axis=1)\n",
    "\n",
    "df_transformado = pd.concat([df_categorico_encoded, df_numerico, df_tratado[[\"Possivel_Fraude\"]]], axis=1)\n",
    "\n",
    "df_transformado.sample(5)"
   ]
  },
  {
   "cell_type": "code",
   "execution_count": 745,
   "metadata": {},
   "outputs": [
    {
     "data": {
      "text/plain": [
       "(80143, 28)"
      ]
     },
     "execution_count": 745,
     "metadata": {},
     "output_type": "execute_result"
    }
   ],
   "source": [
    "#verificando o numero de colunas depois da transformacao\n",
    "df_transformado.shape"
   ]
  },
  {
   "cell_type": "code",
   "execution_count": 746,
   "metadata": {},
   "outputs": [
    {
     "data": {
      "text/plain": [
       "Faixa_Etaria                        0\n",
       "Faixa_Salarial                      0\n",
       "Faixa_Dias_Atraso                   0\n",
       "Faixa_Total_Pago                    0\n",
       "Faixa_Saldo_Devedor                 0\n",
       "Faixa_Prazo_Emprestimo              0\n",
       "Faixa_Prazo_Restante                0\n",
       "Sexo_F                              0\n",
       "Sexo_M                              0\n",
       "Regiao_UF_Cliente_Centro_Oeste      0\n",
       "Regiao_UF_Cliente_Nordeste          0\n",
       "Regiao_UF_Cliente_Norte             0\n",
       "Regiao_UF_Cliente_Sudeste           0\n",
       "Regiao_UF_Cliente_Sul               0\n",
       "Estado_Civil_CASADO(A)              0\n",
       "Estado_Civil_DIVORCIADO             0\n",
       "Estado_Civil_OUTRO                  0\n",
       "Estado_Civil_SOLTEIRO(A)            0\n",
       "Estado_Civil_VIÚVO(A)               0\n",
       "Perc_Juros                          0\n",
       "VL_Emprestimo                       0\n",
       "VL_Emprestimo_ComJuros              0\n",
       "QT_Total_Parcelas_Pagas             0\n",
       "QT_Total_Parcelas_Pagas_EmDia       0\n",
       "QT_Total_Parcelas_Pagas_EmAtraso    0\n",
       "Qt_Renegociacao                     0\n",
       "QT_Parcelas_Atraso                  0\n",
       "Possivel_Fraude                     0\n",
       "dtype: int64"
      ]
     },
     "execution_count": 746,
     "metadata": {},
     "output_type": "execute_result"
    }
   ],
   "source": [
    "#verificando se existem valores nulos\n",
    "df_transformado.isnull().sum()"
   ]
  },
  {
   "cell_type": "code",
   "execution_count": 747,
   "metadata": {},
   "outputs": [],
   "source": [
    "#otimizando novamente as colunas numericas\n",
    "colunas_float = df_transformado.select_dtypes(include=\"float64\").columns\n",
    "\n",
    "df_transformado[colunas_float] = df_transformado[colunas_float].apply(pd.to_numeric, downcast=\"float\")"
   ]
  },
  {
   "cell_type": "code",
   "execution_count": 748,
   "metadata": {},
   "outputs": [
    {
     "name": "stdout",
     "output_type": "stream",
     "text": [
      "<class 'pandas.core.frame.DataFrame'>\n",
      "RangeIndex: 80143 entries, 0 to 80142\n",
      "Data columns (total 28 columns):\n",
      " #   Column                            Non-Null Count  Dtype   \n",
      "---  ------                            --------------  -----   \n",
      " 0   Faixa_Etaria                      80143 non-null  float32 \n",
      " 1   Faixa_Salarial                    80143 non-null  float32 \n",
      " 2   Faixa_Dias_Atraso                 80143 non-null  float32 \n",
      " 3   Faixa_Total_Pago                  80143 non-null  float32 \n",
      " 4   Faixa_Saldo_Devedor               80143 non-null  float32 \n",
      " 5   Faixa_Prazo_Emprestimo            80143 non-null  float32 \n",
      " 6   Faixa_Prazo_Restante              80143 non-null  float32 \n",
      " 7   Sexo_F                            80143 non-null  float32 \n",
      " 8   Sexo_M                            80143 non-null  float32 \n",
      " 9   Regiao_UF_Cliente_Centro_Oeste    80143 non-null  float32 \n",
      " 10  Regiao_UF_Cliente_Nordeste        80143 non-null  float32 \n",
      " 11  Regiao_UF_Cliente_Norte           80143 non-null  float32 \n",
      " 12  Regiao_UF_Cliente_Sudeste         80143 non-null  float32 \n",
      " 13  Regiao_UF_Cliente_Sul             80143 non-null  float32 \n",
      " 14  Estado_Civil_CASADO(A)            80143 non-null  float32 \n",
      " 15  Estado_Civil_DIVORCIADO           80143 non-null  float32 \n",
      " 16  Estado_Civil_OUTRO                80143 non-null  float32 \n",
      " 17  Estado_Civil_SOLTEIRO(A)          80143 non-null  float32 \n",
      " 18  Estado_Civil_VIÚVO(A)             80143 non-null  float32 \n",
      " 19  Perc_Juros                        80143 non-null  float32 \n",
      " 20  VL_Emprestimo                     80143 non-null  float32 \n",
      " 21  VL_Emprestimo_ComJuros            80143 non-null  float32 \n",
      " 22  QT_Total_Parcelas_Pagas           80143 non-null  int8    \n",
      " 23  QT_Total_Parcelas_Pagas_EmDia     80143 non-null  int8    \n",
      " 24  QT_Total_Parcelas_Pagas_EmAtraso  80143 non-null  int8    \n",
      " 25  Qt_Renegociacao                   80143 non-null  int8    \n",
      " 26  QT_Parcelas_Atraso                80143 non-null  int8    \n",
      " 27  Possivel_Fraude                   80143 non-null  category\n",
      "dtypes: category(1), float32(22), int8(5)\n",
      "memory usage: 7.2 MB\n"
     ]
    }
   ],
   "source": [
    "df_transformado.info()"
   ]
  },
  {
   "cell_type": "markdown",
   "metadata": {},
   "source": [
    "## Separando as Variáveis Preditoras da Váriavel Alvo e Balanceamento da Variável Alvo"
   ]
  },
  {
   "cell_type": "code",
   "execution_count": 749,
   "metadata": {},
   "outputs": [
    {
     "name": "stdout",
     "output_type": "stream",
     "text": [
      "Variáveis Preditoras:  (80143, 27)\n",
      "Variável Alvo:  (80143, 1)\n"
     ]
    }
   ],
   "source": [
    "#separando as variaveis preditoras da variavel alvo\n",
    "\n",
    "var_preditoras = df_transformado.drop(\"Possivel_Fraude\", axis = 1)\n",
    "print(\"Variáveis Preditoras: \",var_preditoras.shape)\n",
    "\n",
    "var_target = df_transformado[[\"Possivel_Fraude\"]]\n",
    "print(\"Variável Alvo: \", var_target.shape)"
   ]
  },
  {
   "cell_type": "code",
   "execution_count": 750,
   "metadata": {},
   "outputs": [
    {
     "data": {
      "text/html": [
       "<div>\n",
       "<style scoped>\n",
       "    .dataframe tbody tr th:only-of-type {\n",
       "        vertical-align: middle;\n",
       "    }\n",
       "\n",
       "    .dataframe tbody tr th {\n",
       "        vertical-align: top;\n",
       "    }\n",
       "\n",
       "    .dataframe thead th {\n",
       "        text-align: right;\n",
       "    }\n",
       "</style>\n",
       "<table border=\"1\" class=\"dataframe\">\n",
       "  <thead>\n",
       "    <tr style=\"text-align: right;\">\n",
       "      <th></th>\n",
       "      <th>Faixa_Etaria</th>\n",
       "      <th>Faixa_Salarial</th>\n",
       "      <th>Faixa_Dias_Atraso</th>\n",
       "      <th>Faixa_Total_Pago</th>\n",
       "      <th>Faixa_Saldo_Devedor</th>\n",
       "      <th>Faixa_Prazo_Emprestimo</th>\n",
       "      <th>Faixa_Prazo_Restante</th>\n",
       "      <th>Sexo_F</th>\n",
       "      <th>Sexo_M</th>\n",
       "      <th>Regiao_UF_Cliente_Centro_Oeste</th>\n",
       "      <th>Regiao_UF_Cliente_Nordeste</th>\n",
       "      <th>Regiao_UF_Cliente_Norte</th>\n",
       "      <th>Regiao_UF_Cliente_Sudeste</th>\n",
       "      <th>Regiao_UF_Cliente_Sul</th>\n",
       "      <th>Estado_Civil_CASADO(A)</th>\n",
       "      <th>Estado_Civil_DIVORCIADO</th>\n",
       "      <th>Estado_Civil_OUTRO</th>\n",
       "      <th>Estado_Civil_SOLTEIRO(A)</th>\n",
       "      <th>Estado_Civil_VIÚVO(A)</th>\n",
       "      <th>Perc_Juros</th>\n",
       "      <th>VL_Emprestimo</th>\n",
       "      <th>VL_Emprestimo_ComJuros</th>\n",
       "      <th>QT_Total_Parcelas_Pagas</th>\n",
       "      <th>QT_Total_Parcelas_Pagas_EmDia</th>\n",
       "      <th>QT_Total_Parcelas_Pagas_EmAtraso</th>\n",
       "      <th>Qt_Renegociacao</th>\n",
       "      <th>QT_Parcelas_Atraso</th>\n",
       "    </tr>\n",
       "  </thead>\n",
       "  <tbody>\n",
       "    <tr>\n",
       "      <th>18063</th>\n",
       "      <td>1.00</td>\n",
       "      <td>2.00</td>\n",
       "      <td>6.00</td>\n",
       "      <td>6.00</td>\n",
       "      <td>4.00</td>\n",
       "      <td>3.00</td>\n",
       "      <td>3.00</td>\n",
       "      <td>1.00</td>\n",
       "      <td>0.00</td>\n",
       "      <td>0.00</td>\n",
       "      <td>1.00</td>\n",
       "      <td>0.00</td>\n",
       "      <td>0.00</td>\n",
       "      <td>0.00</td>\n",
       "      <td>0.00</td>\n",
       "      <td>0.00</td>\n",
       "      <td>0.00</td>\n",
       "      <td>1.00</td>\n",
       "      <td>0.00</td>\n",
       "      <td>20.00</td>\n",
       "      <td>40000.00</td>\n",
       "      <td>46000.00</td>\n",
       "      <td>7</td>\n",
       "      <td>6</td>\n",
       "      <td>1</td>\n",
       "      <td>0</td>\n",
       "      <td>10</td>\n",
       "    </tr>\n",
       "    <tr>\n",
       "      <th>71187</th>\n",
       "      <td>4.00</td>\n",
       "      <td>2.00</td>\n",
       "      <td>12.00</td>\n",
       "      <td>2.00</td>\n",
       "      <td>0.00</td>\n",
       "      <td>1.00</td>\n",
       "      <td>1.00</td>\n",
       "      <td>1.00</td>\n",
       "      <td>0.00</td>\n",
       "      <td>0.00</td>\n",
       "      <td>0.00</td>\n",
       "      <td>0.00</td>\n",
       "      <td>1.00</td>\n",
       "      <td>0.00</td>\n",
       "      <td>1.00</td>\n",
       "      <td>0.00</td>\n",
       "      <td>0.00</td>\n",
       "      <td>0.00</td>\n",
       "      <td>0.00</td>\n",
       "      <td>18.00</td>\n",
       "      <td>9000.00</td>\n",
       "      <td>10350.00</td>\n",
       "      <td>5</td>\n",
       "      <td>1</td>\n",
       "      <td>4</td>\n",
       "      <td>1</td>\n",
       "      <td>0</td>\n",
       "    </tr>\n",
       "    <tr>\n",
       "      <th>41844</th>\n",
       "      <td>2.00</td>\n",
       "      <td>2.00</td>\n",
       "      <td>12.00</td>\n",
       "      <td>2.00</td>\n",
       "      <td>4.00</td>\n",
       "      <td>3.00</td>\n",
       "      <td>3.00</td>\n",
       "      <td>0.00</td>\n",
       "      <td>1.00</td>\n",
       "      <td>0.00</td>\n",
       "      <td>1.00</td>\n",
       "      <td>0.00</td>\n",
       "      <td>0.00</td>\n",
       "      <td>0.00</td>\n",
       "      <td>0.00</td>\n",
       "      <td>0.00</td>\n",
       "      <td>1.00</td>\n",
       "      <td>0.00</td>\n",
       "      <td>0.00</td>\n",
       "      <td>17.88</td>\n",
       "      <td>30000.00</td>\n",
       "      <td>34500.00</td>\n",
       "      <td>25</td>\n",
       "      <td>25</td>\n",
       "      <td>0</td>\n",
       "      <td>1</td>\n",
       "      <td>0</td>\n",
       "    </tr>\n",
       "    <tr>\n",
       "      <th>58739</th>\n",
       "      <td>3.00</td>\n",
       "      <td>5.00</td>\n",
       "      <td>7.00</td>\n",
       "      <td>4.00</td>\n",
       "      <td>2.00</td>\n",
       "      <td>1.00</td>\n",
       "      <td>1.00</td>\n",
       "      <td>0.00</td>\n",
       "      <td>1.00</td>\n",
       "      <td>0.00</td>\n",
       "      <td>0.00</td>\n",
       "      <td>0.00</td>\n",
       "      <td>1.00</td>\n",
       "      <td>0.00</td>\n",
       "      <td>1.00</td>\n",
       "      <td>0.00</td>\n",
       "      <td>0.00</td>\n",
       "      <td>0.00</td>\n",
       "      <td>0.00</td>\n",
       "      <td>18.00</td>\n",
       "      <td>35000.00</td>\n",
       "      <td>40250.00</td>\n",
       "      <td>22</td>\n",
       "      <td>1</td>\n",
       "      <td>21</td>\n",
       "      <td>3</td>\n",
       "      <td>2</td>\n",
       "    </tr>\n",
       "    <tr>\n",
       "      <th>64321</th>\n",
       "      <td>1.00</td>\n",
       "      <td>2.00</td>\n",
       "      <td>12.00</td>\n",
       "      <td>6.00</td>\n",
       "      <td>7.00</td>\n",
       "      <td>3.00</td>\n",
       "      <td>3.00</td>\n",
       "      <td>0.00</td>\n",
       "      <td>1.00</td>\n",
       "      <td>0.00</td>\n",
       "      <td>1.00</td>\n",
       "      <td>0.00</td>\n",
       "      <td>0.00</td>\n",
       "      <td>0.00</td>\n",
       "      <td>0.00</td>\n",
       "      <td>0.00</td>\n",
       "      <td>0.00</td>\n",
       "      <td>1.00</td>\n",
       "      <td>0.00</td>\n",
       "      <td>18.00</td>\n",
       "      <td>60000.00</td>\n",
       "      <td>69000.00</td>\n",
       "      <td>5</td>\n",
       "      <td>1</td>\n",
       "      <td>3</td>\n",
       "      <td>1</td>\n",
       "      <td>20</td>\n",
       "    </tr>\n",
       "  </tbody>\n",
       "</table>\n",
       "</div>"
      ],
      "text/plain": [
       "       Faixa_Etaria  Faixa_Salarial  Faixa_Dias_Atraso  Faixa_Total_Pago  \\\n",
       "18063          1.00            2.00               6.00              6.00   \n",
       "71187          4.00            2.00              12.00              2.00   \n",
       "41844          2.00            2.00              12.00              2.00   \n",
       "58739          3.00            5.00               7.00              4.00   \n",
       "64321          1.00            2.00              12.00              6.00   \n",
       "\n",
       "       Faixa_Saldo_Devedor  Faixa_Prazo_Emprestimo  Faixa_Prazo_Restante  \\\n",
       "18063                 4.00                    3.00                  3.00   \n",
       "71187                 0.00                    1.00                  1.00   \n",
       "41844                 4.00                    3.00                  3.00   \n",
       "58739                 2.00                    1.00                  1.00   \n",
       "64321                 7.00                    3.00                  3.00   \n",
       "\n",
       "       Sexo_F  Sexo_M  Regiao_UF_Cliente_Centro_Oeste  \\\n",
       "18063    1.00    0.00                            0.00   \n",
       "71187    1.00    0.00                            0.00   \n",
       "41844    0.00    1.00                            0.00   \n",
       "58739    0.00    1.00                            0.00   \n",
       "64321    0.00    1.00                            0.00   \n",
       "\n",
       "       Regiao_UF_Cliente_Nordeste  Regiao_UF_Cliente_Norte  \\\n",
       "18063                        1.00                     0.00   \n",
       "71187                        0.00                     0.00   \n",
       "41844                        1.00                     0.00   \n",
       "58739                        0.00                     0.00   \n",
       "64321                        1.00                     0.00   \n",
       "\n",
       "       Regiao_UF_Cliente_Sudeste  Regiao_UF_Cliente_Sul  \\\n",
       "18063                       0.00                   0.00   \n",
       "71187                       1.00                   0.00   \n",
       "41844                       0.00                   0.00   \n",
       "58739                       1.00                   0.00   \n",
       "64321                       0.00                   0.00   \n",
       "\n",
       "       Estado_Civil_CASADO(A)  Estado_Civil_DIVORCIADO  Estado_Civil_OUTRO  \\\n",
       "18063                    0.00                     0.00                0.00   \n",
       "71187                    1.00                     0.00                0.00   \n",
       "41844                    0.00                     0.00                1.00   \n",
       "58739                    1.00                     0.00                0.00   \n",
       "64321                    0.00                     0.00                0.00   \n",
       "\n",
       "       Estado_Civil_SOLTEIRO(A)  Estado_Civil_VIÚVO(A)  Perc_Juros  \\\n",
       "18063                      1.00                   0.00       20.00   \n",
       "71187                      0.00                   0.00       18.00   \n",
       "41844                      0.00                   0.00       17.88   \n",
       "58739                      0.00                   0.00       18.00   \n",
       "64321                      1.00                   0.00       18.00   \n",
       "\n",
       "       VL_Emprestimo  VL_Emprestimo_ComJuros  QT_Total_Parcelas_Pagas  \\\n",
       "18063       40000.00                46000.00                        7   \n",
       "71187        9000.00                10350.00                        5   \n",
       "41844       30000.00                34500.00                       25   \n",
       "58739       35000.00                40250.00                       22   \n",
       "64321       60000.00                69000.00                        5   \n",
       "\n",
       "       QT_Total_Parcelas_Pagas_EmDia  QT_Total_Parcelas_Pagas_EmAtraso  \\\n",
       "18063                              6                                 1   \n",
       "71187                              1                                 4   \n",
       "41844                             25                                 0   \n",
       "58739                              1                                21   \n",
       "64321                              1                                 3   \n",
       "\n",
       "       Qt_Renegociacao  QT_Parcelas_Atraso  \n",
       "18063                0                  10  \n",
       "71187                1                   0  \n",
       "41844                1                   0  \n",
       "58739                3                   2  \n",
       "64321                1                  20  "
      ]
     },
     "execution_count": 750,
     "metadata": {},
     "output_type": "execute_result"
    }
   ],
   "source": [
    "#visualizando os dados\n",
    "var_preditoras.sample(5)"
   ]
  },
  {
   "cell_type": "code",
   "execution_count": 751,
   "metadata": {},
   "outputs": [
    {
     "data": {
      "text/html": [
       "<div>\n",
       "<style scoped>\n",
       "    .dataframe tbody tr th:only-of-type {\n",
       "        vertical-align: middle;\n",
       "    }\n",
       "\n",
       "    .dataframe tbody tr th {\n",
       "        vertical-align: top;\n",
       "    }\n",
       "\n",
       "    .dataframe thead th {\n",
       "        text-align: right;\n",
       "    }\n",
       "</style>\n",
       "<table border=\"1\" class=\"dataframe\">\n",
       "  <thead>\n",
       "    <tr style=\"text-align: right;\">\n",
       "      <th></th>\n",
       "      <th>Possivel_Fraude</th>\n",
       "    </tr>\n",
       "  </thead>\n",
       "  <tbody>\n",
       "    <tr>\n",
       "      <th>41451</th>\n",
       "      <td>Sim</td>\n",
       "    </tr>\n",
       "    <tr>\n",
       "      <th>24022</th>\n",
       "      <td>Nao</td>\n",
       "    </tr>\n",
       "    <tr>\n",
       "      <th>6237</th>\n",
       "      <td>Nao</td>\n",
       "    </tr>\n",
       "    <tr>\n",
       "      <th>79251</th>\n",
       "      <td>Sim</td>\n",
       "    </tr>\n",
       "    <tr>\n",
       "      <th>46038</th>\n",
       "      <td>Sim</td>\n",
       "    </tr>\n",
       "  </tbody>\n",
       "</table>\n",
       "</div>"
      ],
      "text/plain": [
       "      Possivel_Fraude\n",
       "41451             Sim\n",
       "24022             Nao\n",
       "6237              Nao\n",
       "79251             Sim\n",
       "46038             Sim"
      ]
     },
     "execution_count": 751,
     "metadata": {},
     "output_type": "execute_result"
    }
   ],
   "source": [
    "#visualizando os dados\n",
    "var_target.sample(5)"
   ]
  },
  {
   "cell_type": "code",
   "execution_count": 752,
   "metadata": {},
   "outputs": [
    {
     "data": {
      "text/plain": [
       "Possivel_Fraude\n",
       "Sim                44511\n",
       "Nao                35632\n",
       "Name: count, dtype: int64"
      ]
     },
     "execution_count": 752,
     "metadata": {},
     "output_type": "execute_result"
    }
   ],
   "source": [
    "#quantidade de dados da variavel alvo\n",
    "df_transformado[[\"Possivel_Fraude\"]].value_counts()"
   ]
  },
  {
   "cell_type": "code",
   "execution_count": 753,
   "metadata": {},
   "outputs": [],
   "source": [
    "#balancear a variavel alvo para nao criar vies no modelo\n",
    "balanceador = SMOTE()\n",
    "\n",
    "var_preditoras_b, var_target_b = balanceador.fit_resample(var_preditoras, var_target)\n"
   ]
  },
  {
   "cell_type": "code",
   "execution_count": 754,
   "metadata": {},
   "outputs": [],
   "source": [
    "#grafico que mostra Possíveis Fraude x Não Fraudes\n",
    "# fig = px.bar(var_target_b, title=\"Possíveis Fraude x Não Fraudes\", color=\"value\", template=\"plotly_dark\")\n",
    "# fig.update_traces(dict(marker_line_width=0))\n",
    "# fig.show()"
   ]
  },
  {
   "cell_type": "markdown",
   "metadata": {},
   "source": [
    "## Normalização/Padronização de Dados\n",
    "\n",
    "#### Iremos testar esses métodos para ver qual se sai melhor nos modelos, também usaremos o RobustScaler por conta dos outliers em algumas colunas"
   ]
  },
  {
   "cell_type": "code",
   "execution_count": 755,
   "metadata": {},
   "outputs": [],
   "source": [
    "#separando os dados em treino e teste\n",
    "X_train, X_test, y_train, y_test = train_test_split(var_preditoras_b, var_target_b, test_size=0.3, random_state=10)"
   ]
  },
  {
   "cell_type": "code",
   "execution_count": 756,
   "metadata": {},
   "outputs": [
    {
     "name": "stdout",
     "output_type": "stream",
     "text": [
      "Dados de Treino:  (62315, 27)\n"
     ]
    }
   ],
   "source": [
    "print(\"Dados de Treino: \", X_train.shape)"
   ]
  },
  {
   "cell_type": "code",
   "execution_count": 757,
   "metadata": {},
   "outputs": [],
   "source": [
    "#normalizacao\n",
    "normalizador = MinMaxScaler()\n",
    "X_treino_normalizado = normalizador.fit_transform(X_train)\n",
    "X_teste_normalizado = normalizador.transform(X_test)"
   ]
  },
  {
   "cell_type": "code",
   "execution_count": 758,
   "metadata": {},
   "outputs": [
    {
     "data": {
      "text/plain": [
       "(62315, 27)"
      ]
     },
     "execution_count": 758,
     "metadata": {},
     "output_type": "execute_result"
    }
   ],
   "source": [
    "#vendo o tamanho dos dados\n",
    "X_treino_normalizado.shape"
   ]
  },
  {
   "cell_type": "code",
   "execution_count": 759,
   "metadata": {},
   "outputs": [
    {
     "data": {
      "text/plain": [
       "array([[0.16666667, 0.5       , 1.        , ..., 0.16129032, 0.07692308,\n",
       "        0.        ],\n",
       "       [0.33333334, 0.2       , 1.        , ..., 0.03225806, 0.07692308,\n",
       "        0.61764705],\n",
       "       [0.5       , 0.2       , 0.75      , ..., 0.        , 0.        ,\n",
       "        0.3529412 ],\n",
       "       ...,\n",
       "       [0.5       , 0.5       , 1.        , ..., 0.        , 0.07692308,\n",
       "        0.5882353 ],\n",
       "       [0.33333334, 0.5       , 0.4166667 , ..., 0.2580645 , 0.11538462,\n",
       "        0.05882353],\n",
       "       [0.38463223, 0.5       , 0.        , ..., 0.48387095, 0.07692308,\n",
       "        0.02941176]], dtype=float32)"
      ]
     },
     "execution_count": 759,
     "metadata": {},
     "output_type": "execute_result"
    }
   ],
   "source": [
    "#observando os dados\n",
    "X_treino_normalizado"
   ]
  },
  {
   "cell_type": "code",
   "execution_count": 760,
   "metadata": {},
   "outputs": [],
   "source": [
    "#padronizacao\n",
    "padronizador = StandardScaler()\n",
    "X_treino_padronizado = padronizador.fit_transform(X_train)\n",
    "X_teste_padronizado = padronizador.transform(X_test)"
   ]
  },
  {
   "cell_type": "code",
   "execution_count": 761,
   "metadata": {},
   "outputs": [
    {
     "data": {
      "text/plain": [
       "(62315, 27)"
      ]
     },
     "execution_count": 761,
     "metadata": {},
     "output_type": "execute_result"
    }
   ],
   "source": [
    "#vendo o tamanho dos dados\n",
    "X_treino_padronizado.shape"
   ]
  },
  {
   "cell_type": "code",
   "execution_count": 762,
   "metadata": {},
   "outputs": [
    {
     "data": {
      "text/plain": [
       "array([[-1.0679319 ,  0.56602144,  0.48162186, ...,  0.6216999 ,\n",
       "         0.5473783 , -0.93120193],\n",
       "       [-0.27132317, -0.75408274,  0.48162186, ..., -0.3584146 ,\n",
       "         0.5473783 ,  1.0946137 ],\n",
       "       [ 0.52528554, -0.75408274, -0.3869191 , ..., -0.60344315,\n",
       "        -1.040568  ,  0.22640699],\n",
       "       ...,\n",
       "       [ 0.52528554,  0.56602144,  0.48162186, ..., -0.60344315,\n",
       "         0.5473783 ,  0.99814624],\n",
       "       [-0.27132317,  0.56602144, -1.5449739 , ...,  1.3567858 ,\n",
       "         1.3413515 , -0.73826706],\n",
       "       [-0.02613229,  0.56602144, -2.992542  , ...,  3.0719862 ,\n",
       "         0.5473783 , -0.8347345 ]], dtype=float32)"
      ]
     },
     "execution_count": 762,
     "metadata": {},
     "output_type": "execute_result"
    }
   ],
   "source": [
    "#observando os dados\n",
    "X_treino_padronizado"
   ]
  },
  {
   "cell_type": "code",
   "execution_count": 763,
   "metadata": {},
   "outputs": [],
   "source": [
    "#RobustScaler, para dados com outliers\n",
    "robusto = RobustScaler()\n",
    "X_treino_robusto = robusto.fit_transform(X_train)\n",
    "X_teste_robusto = robusto.transform(X_test)"
   ]
  },
  {
   "cell_type": "code",
   "execution_count": 764,
   "metadata": {},
   "outputs": [
    {
     "data": {
      "text/plain": [
       "(62315, 27)"
      ]
     },
     "execution_count": 764,
     "metadata": {},
     "output_type": "execute_result"
    }
   ],
   "source": [
    "#vendo o tamanho dos dados\n",
    "X_treino_robusto.shape"
   ]
  },
  {
   "cell_type": "code",
   "execution_count": 765,
   "metadata": {},
   "outputs": [
    {
     "data": {
      "text/plain": [
       "array([[ -0.5       ,   1.        ,   0.        , ...,   1.3333334 ,\n",
       "          0.5       ,  -0.31578946],\n",
       "       [  0.        ,   0.        ,   0.        , ...,   0.        ,\n",
       "          0.5       ,   0.7894737 ],\n",
       "       [  0.5       ,   0.        ,  -3.        , ...,  -0.33333334,\n",
       "         -0.5       ,   0.31578946],\n",
       "       ...,\n",
       "       [  0.5       ,   1.        ,   0.        , ...,  -0.33333334,\n",
       "          0.5       ,   0.7368421 ],\n",
       "       [  0.        ,   1.        ,  -7.        , ...,   2.3333333 ,\n",
       "          1.        ,  -0.21052632],\n",
       "       [  0.15389669,   1.        , -12.        , ...,   4.6666665 ,\n",
       "          0.5       ,  -0.2631579 ]], dtype=float32)"
      ]
     },
     "execution_count": 765,
     "metadata": {},
     "output_type": "execute_result"
    }
   ],
   "source": [
    "#observando os dados\n",
    "X_treino_robusto"
   ]
  },
  {
   "cell_type": "markdown",
   "metadata": {},
   "source": [
    "## Modelos de Machine Learning\n",
    "#### Criando, Treinando e Avaliando\n",
    "#### Arrumando Hyperparâmetros"
   ]
  },
  {
   "cell_type": "code",
   "execution_count": 766,
   "metadata": {},
   "outputs": [],
   "source": [
    "#usando o RandomForest\n",
    "rf = RandomForestClassifier()\n",
    "\n",
    "# Valores para o grid de hiperparametros\n",
    "n_estimators = np.array([100,200,300])\n",
    "max_depth = np.array([10,20])\n",
    "criterion = np.array([\"gini\", \"entropy\"])\n",
    "max_features = np.array([\"sqrt\", \"log2\", None])\n",
    "min_samples_split = np.array([1,2,5])\n",
    "min_samples_leaf = np.array([1,2,3])\n",
    "\n",
    "# Grid de hiperparâmetros\n",
    "grid_parametros = dict(n_estimators = n_estimators,\n",
    "                    max_depth = max_depth,\n",
    "                    criterion = criterion,\n",
    "                    max_features = max_features,\n",
    "                    min_samples_split = min_samples_split,\n",
    "                    min_samples_leaf = min_samples_leaf)\n",
    "\n",
    "\n",
    "# Criando o modelo com o Grid de Hiperparametros\n",
    "randomForest = GridSearchCV(rf, grid_parametros, cv = 3, n_jobs = 8)"
   ]
  },
  {
   "cell_type": "code",
   "execution_count": 767,
   "metadata": {},
   "outputs": [],
   "source": [
    "# Treinando o modelo normalizado\n",
    "# inicio = time.time()\n",
    "# randomForest.fit(X_treino_normalizado, y_train)\n",
    "# fim = time.time()"
   ]
  },
  {
   "cell_type": "code",
   "execution_count": 768,
   "metadata": {},
   "outputs": [],
   "source": [
    "# Obtendo e visualizando os parametros treinados\n",
    "#treino_rf_n = pd.DataFrame(randomForest.cv_results_)"
   ]
  },
  {
   "cell_type": "code",
   "execution_count": 769,
   "metadata": {},
   "outputs": [],
   "source": [
    "# Acurácia em Treino normalizado\n",
    "# print(f\"Acurácia em Treinamento: {randomForest.best_score_ :.2%}\")\n",
    "# print(\"\")\n",
    "# print(f\"Hiperparâmetros Ideais: {randomForest.best_params_}\")\n",
    "# print(\"\")\n",
    "# print(\"Tempo de Treinamento do Modelo (s): \", round(fim - inicio,2))\n",
    "# print(\"\")\n",
    "# print(\"Numero de treinamentos realizados: \", treino_rf_n.shape[0])"
   ]
  },
  {
   "cell_type": "code",
   "execution_count": 770,
   "metadata": {},
   "outputs": [],
   "source": [
    "# Treinando o modelo padronizado\n",
    "# inicio = time.time()\n",
    "# randomForest.fit(X_treino_padronizado, y_train)\n",
    "# fim = time.time()"
   ]
  },
  {
   "cell_type": "code",
   "execution_count": 771,
   "metadata": {},
   "outputs": [],
   "source": [
    "#treino_rf_p = pd.DataFrame(randomForest.cv_results_)"
   ]
  },
  {
   "cell_type": "code",
   "execution_count": 772,
   "metadata": {},
   "outputs": [],
   "source": [
    "# Acurácia em Treino normalizado\n",
    "# print(f\"Acurácia em Treinamento: {randomForest.best_score_ :.2%}\")\n",
    "# print(\"\")\n",
    "# print(f\"Hiperparâmetros Ideais: {randomForest.best_params_}\")\n",
    "# print(\"\")\n",
    "# print(\"Tempo de Treinamento do Modelo (s): \", round(fim - inicio,2))\n",
    "# print(\"\")\n",
    "# print(\"Numero de treinamentos realizados: \", treino_rf_p.shape[0])"
   ]
  },
  {
   "cell_type": "code",
   "execution_count": 773,
   "metadata": {},
   "outputs": [],
   "source": [
    "# #Treinando o modelo robusto\n",
    "# inicio = time.time()\n",
    "# randomForest.fit(X_treino_robusto, y_train)\n",
    "# fim = time.time()"
   ]
  },
  {
   "cell_type": "code",
   "execution_count": 774,
   "metadata": {},
   "outputs": [],
   "source": [
    "# treino_rf_r = pd.DataFrame(randomForest.cv_results_)"
   ]
  },
  {
   "cell_type": "code",
   "execution_count": 775,
   "metadata": {},
   "outputs": [],
   "source": [
    "# Acurácia em Treino normalizado\n",
    "# print(f\"Acurácia em Treinamento: {randomForest.best_score_ :.2%}\")\n",
    "# print(\"\")\n",
    "# print(f\"Hiperparâmetros Ideais: {randomForest.best_params_}\")\n",
    "# print(\"\")\n",
    "# print(\"Tempo de Treinamento do Modelo (s): \", round(fim - inicio,2))\n",
    "# print(\"\")\n",
    "# print(\"Numero de treinamentos realizados: \", treino_rf_r.shape[0])"
   ]
  },
  {
   "cell_type": "markdown",
   "metadata": {},
   "source": [
    "No geral, os três modelos tiveram resultados parecidos, vamos usar o RobustScaler com os Hiperparâmetros ideais"
   ]
  },
  {
   "cell_type": "code",
   "execution_count": 776,
   "metadata": {},
   "outputs": [],
   "source": [
    "# Criando o classificador com Random Forest\n",
    "clf = RandomForestClassifier(n_estimators  = 200, criterion = 'entropy', max_depth = 20, \n",
    "                            max_features = 'log2', min_samples_leaf = 2, min_samples_split = 5, n_jobs = 8)\n",
    "\n",
    "# Construção do modelo\n",
    "clf = clf.fit(X_treino_robusto, y_train)"
   ]
  },
  {
   "cell_type": "code",
   "execution_count": 777,
   "metadata": {},
   "outputs": [],
   "source": [
    "#vendo a importancia das variaveis no modelo\n",
    "# importancia = pd.Series(data=clf.feature_importances_, index=var_preditoras_b.columns)\n",
    "# importancia = importancia.sort_values(ascending=True)\n",
    "# fig = px.bar(x=importancia, y=importancia.index, orientation=\"h\", title=\"Importância das colunas para o modelo\")\n",
    "# fig.show()"
   ]
  },
  {
   "cell_type": "code",
   "execution_count": 778,
   "metadata": {},
   "outputs": [],
   "source": [
    "# Visualizando o percentual de importancia de cada variável\n",
    "# importancia.sort_values(ascending = False)"
   ]
  },
  {
   "cell_type": "code",
   "execution_count": 779,
   "metadata": {},
   "outputs": [
    {
     "name": "stdout",
     "output_type": "stream",
     "text": [
      "0.9981866324319987\n"
     ]
    }
   ],
   "source": [
    "#simulando os dados de treino\n",
    "resultado = clf.score(X_treino_robusto, y_train)\n",
    "print(resultado)"
   ]
  },
  {
   "cell_type": "code",
   "execution_count": 780,
   "metadata": {},
   "outputs": [
    {
     "name": "stdout",
     "output_type": "stream",
     "text": [
      "0.992473883251582\n"
     ]
    }
   ],
   "source": [
    "#simulando os dados de teste (valor sempre menor do que os dados de treino)\n",
    "resultado = clf.score(X_teste_robusto, y_test)\n",
    "print(resultado)"
   ]
  },
  {
   "cell_type": "code",
   "execution_count": 781,
   "metadata": {},
   "outputs": [],
   "source": [
    "# Dicionário de métricas e metadados para comparar com outros modelos\n",
    "# modelo_rf = {\"Melhores Hiperparametros\":randomForest.best_params_,\n",
    "#             \"Numero de Modelos Treinados\": treino_rf_r.shape[0],\n",
    "#             \"Melhor Score\": str(round(randomForest.best_score_ * 100,2))+\"%\"}\n",
    "\n",
    "# display(modelo_rf)"
   ]
  },
  {
   "cell_type": "code",
   "execution_count": 782,
   "metadata": {},
   "outputs": [],
   "source": [
    "#testando o modelo SVM\n",
    "svm = SVC(probability=False)\n",
    "\n",
    "# Valores para o grid de hiperparametros\n",
    "grid_parametros = {\"C\": [0.1,1,10,100],\n",
    "                    \"gamma\": [1,0.1,0.01,0.001],\n",
    "                    #\"kernel\": [\"poly\",\"rbf\",\"sigmoid\",\"linear\"], -> demoram bastante\n",
    "                    \"kernel\": [\"linear\"], # -> mais rapido\n",
    "                    \"degree\" : [2,3,4,],\n",
    "                    \"coef0\" : [0.5,1],\n",
    "                    #\"decision_function_shape\":[\"ovo\", \"ovr\"], -> demoram bastante\n",
    "                    \"max_iter\": [-1, 1]}\n",
    "\n",
    "\n",
    "supportvectorm = GridSearchCV(svm, grid_parametros, n_jobs = 8)"
   ]
  },
  {
   "cell_type": "code",
   "execution_count": 783,
   "metadata": {},
   "outputs": [],
   "source": [
    "# Treinando os modelos com os dados robustos\n",
    "# inicio = time.time()\n",
    "# supportvectorm.fit(X_treino_robusto, y_train)\n",
    "# fim = time.time()"
   ]
  },
  {
   "cell_type": "code",
   "execution_count": 784,
   "metadata": {},
   "outputs": [],
   "source": [
    "# Obtendo e visualizando os parametros treinados\n",
    "# treino_svm = pd.DataFrame(supportvectorm.cv_results_)"
   ]
  },
  {
   "cell_type": "code",
   "execution_count": 785,
   "metadata": {},
   "outputs": [],
   "source": [
    "# Acurácia em Treino\n",
    "# print(f\"Acurácia em Treinamento: {supportvectorm.best_score_ :.2%}\")\n",
    "# print(\"\")\n",
    "# print(f\"Hiperparâmetros Ideais: {supportvectorm.best_params_}\")\n",
    "# print(\"\")\n",
    "# print(\"Tempo de Treinamento do Modelo (s): \", round(fim - inicio,2))\n",
    "# print(\"\")\n",
    "# print(\"Numero de treinamentos realizados: \", treino_svm.shape[0])"
   ]
  },
  {
   "cell_type": "code",
   "execution_count": 786,
   "metadata": {},
   "outputs": [],
   "source": [
    "# Dicionário de métricas e metadados\n",
    "# modelo_svm = {\"Melhores Hiperparametros\":supportvectorm.best_params_,\n",
    "#             \"Numero de Modelos Treinados\": treino_svm.shape[0],\n",
    "#             \"Melhor Score\": str(round(supportvectorm.best_score_ * 100,2))+\"%\"}"
   ]
  },
  {
   "cell_type": "markdown",
   "metadata": {},
   "source": [
    "Verificamos que o modelo SVM demorou muito mais tempo para ser executado e obteve uma Acurácia menor"
   ]
  },
  {
   "cell_type": "code",
   "execution_count": 787,
   "metadata": {},
   "outputs": [],
   "source": [
    "#testando o modelo KNN\n",
    "knn = KNeighborsClassifier()\n",
    "\n",
    "# Valores para o grid de hiperparametros\n",
    "n_neighbors = np.array([3,5,7,9])\n",
    "algorithm = np.array([\"auto\", \"ball_tree\", \"kd_tree\", \"brute\"])\n",
    "leaf_size = np.array([30,31,32])\n",
    "metric =  np.array([\"minkowski\",\"euclidean\"])\n",
    "\n",
    "\n",
    "# Grid de hiperparâmetros\n",
    "grid_parametros = dict(n_neighbors = n_neighbors,\n",
    "                    algorithm = algorithm,\n",
    "                    leaf_size = leaf_size,\n",
    "                    metric = metric)\n",
    "\n",
    "knn = GridSearchCV(knn, grid_parametros, n_jobs = 8)"
   ]
  },
  {
   "cell_type": "code",
   "execution_count": 788,
   "metadata": {},
   "outputs": [],
   "source": [
    "# Treinando os modelos\n",
    "# inicio = time.time()\n",
    "# knn.fit(X_treino_robusto, y_train)\n",
    "# fim = time.time()"
   ]
  },
  {
   "cell_type": "code",
   "execution_count": 789,
   "metadata": {},
   "outputs": [],
   "source": [
    "# Obtendo e visualizando os parametros treinados\n",
    "# treinos_knn = pd.DataFrame(knn.cv_results_)"
   ]
  },
  {
   "cell_type": "code",
   "execution_count": 790,
   "metadata": {},
   "outputs": [],
   "source": [
    "# Acurácia em Treino\n",
    "# print(f\"Acurácia em Treinamento: {knn.best_score_ :.2%}\")\n",
    "# print(\"\")\n",
    "# print(f\"Hiperparâmetros Ideais: {knn.best_params_}\")\n",
    "# print(\"\")\n",
    "# print(\"Tempo de Treinamento do Modelo: \", round(fim - inicio,2))\n",
    "# print(\"\")\n",
    "# print(\"Numero de treinamentos realizados: \", treinos_knn.shape[0])"
   ]
  },
  {
   "cell_type": "markdown",
   "metadata": {},
   "source": [
    "Observamos que o modelo KNN obteve a menor Acurácia entre os três testados, como o primeiro modelo apresentou um resultado bem satisfatório, não iremos treinar nenhum outro modelo."
   ]
  },
  {
   "cell_type": "code",
   "execution_count": 791,
   "metadata": {},
   "outputs": [],
   "source": [
    "# Dicionário de métricas e metadados\n",
    "# modelo_knn = {\"Melhores Hiperparametros\":knn.best_params_,\n",
    "#             \"Numero de Modelos Treinados\": treinos_knn.shape[0],\n",
    "#             \"Melhor Score\": str(round(knn.best_score_ * 100,2))+\"%\"}"
   ]
  },
  {
   "cell_type": "code",
   "execution_count": 792,
   "metadata": {},
   "outputs": [],
   "source": [
    "# Gerando o DataFrame com todos os valores de todos os modelos treinados\n",
    "# resumo = pd.DataFrame({'Random Forest':pd.Series(modelo_rf),\n",
    "#                     'SVM':pd.Series(modelo_svm),\n",
    "#                     'KNN':pd.Series(modelo_knn)})"
   ]
  },
  {
   "cell_type": "code",
   "execution_count": 793,
   "metadata": {},
   "outputs": [],
   "source": [
    "# resumo"
   ]
  }
 ],
 "metadata": {
  "kernelspec": {
   "display_name": ".venv",
   "language": "python",
   "name": "python3"
  },
  "language_info": {
   "codemirror_mode": {
    "name": "ipython",
    "version": 3
   },
   "file_extension": ".py",
   "mimetype": "text/x-python",
   "name": "python",
   "nbconvert_exporter": "python",
   "pygments_lexer": "ipython3",
   "version": "3.12.4"
  }
 },
 "nbformat": 4,
 "nbformat_minor": 2
}
